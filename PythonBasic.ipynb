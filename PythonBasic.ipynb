{
  "nbformat": 4,
  "nbformat_minor": 0,
  "metadata": {
    "colab": {
      "name": "PythonBasic.ipynb",
      "provenance": [],
      "collapsed_sections": []
    },
    "kernelspec": {
      "name": "python3",
      "display_name": "Python 3"
    },
    "language_info": {
      "name": "python"
    }
  },
  "cells": [
    {
      "cell_type": "markdown",
      "source": [
        "Variables do not need to be declared with any particular type, and can even change type after they have been set."
      ],
      "metadata": {
        "id": "SycurPJ3q_Gd"
      }
    },
    {
      "cell_type": "markdown",
      "source": [
        "##Type Casting\n",
        "If you want to specify the data type of a variable, this can be done with casting."
      ],
      "metadata": {
        "id": "uyco_gTGrVH3"
      }
    },
    {
      "cell_type": "code",
      "source": [
        "#3\n",
        "x = str(3)\n",
        "y = int(3)\n",
        "z = float(3)\n",
        "\n",
        "print(x)\n",
        "print(y)\n",
        "print(z)\n",
        "print(type(x))\n",
        "print(type(y))\n",
        "print(type(z))\n"
      ],
      "metadata": {
        "id": "Md6VWRU1rTxe",
        "colab": {
          "base_uri": "https://localhost:8080/"
        },
        "outputId": "1d8670dd-d229-4303-b369-357b52bfe593"
      },
      "execution_count": 3,
      "outputs": [
        {
          "output_type": "stream",
          "name": "stdout",
          "text": [
            "3\n",
            "3\n",
            "3.0\n",
            "<class 'str'>\n",
            "<class 'int'>\n",
            "<class 'float'>\n"
          ]
        }
      ]
    },
    {
      "cell_type": "code",
      "source": [
        "x = 10\n",
        "y = \"Rohan\"\n",
        "a =  float(x)\n",
        "print(a)\n",
        "print(type(x))\n",
        "print(type(y))\n",
        "print(type(a))"
      ],
      "metadata": {
        "colab": {
          "base_uri": "https://localhost:8080/"
        },
        "id": "878FSX-wYgmK",
        "outputId": "43b9ddad-6f80-4a6a-9686-73ef46b53ed3"
      },
      "execution_count": 6,
      "outputs": [
        {
          "output_type": "stream",
          "name": "stdout",
          "text": [
            "10.0\n",
            "<class 'int'>\n",
            "<class 'str'>\n",
            "<class 'float'>\n"
          ]
        }
      ]
    },
    {
      "cell_type": "markdown",
      "source": [
        "#Python Numbers\n",
        "There are three numeric types in Python:\n",
        "\n",
        "int\n",
        "float\n",
        "complex\n",
        "Variables of numeric types are created when you assign a value to them:"
      ],
      "metadata": {
        "id": "jef47MY8u7Wo"
      }
    },
    {
      "cell_type": "code",
      "source": [
        "#Example\n",
        "#Convert from one type to another:\n",
        "\n",
        "x = 1    # int\n",
        "y = 2.8  # float\n",
        "z = 1j   # complex\n",
        "\n",
        "#Checking the type of the numbers:\n",
        "print(type(x))\n",
        "print(type(y))\n",
        "print(type(z))\n",
        "\n",
        "#convert from int to float:\n",
        "a = float(x)\n",
        "\n",
        "#convert from float to int:\n",
        "b = int(y)\n",
        "\n",
        "#convert from int to complex:\n",
        "c = complex(x)\n",
        "\n",
        "print(a)\n",
        "print(b)\n",
        "print(c)\n",
        "\n",
        "print(type(a))\n",
        "print(type(b))\n",
        "print(type(c))"
      ],
      "metadata": {
        "colab": {
          "base_uri": "https://localhost:8080/"
        },
        "id": "UaNx763lu9Ia",
        "outputId": "be3d9a4c-d73a-4098-b09a-2f449b0f0c2f"
      },
      "execution_count": 7,
      "outputs": [
        {
          "output_type": "stream",
          "name": "stdout",
          "text": [
            "<class 'int'>\n",
            "<class 'float'>\n",
            "<class 'complex'>\n",
            "1.0\n",
            "2\n",
            "(1+0j)\n",
            "<class 'float'>\n",
            "<class 'int'>\n",
            "<class 'complex'>\n"
          ]
        }
      ]
    },
    {
      "cell_type": "markdown",
      "source": [
        "\n"
      ],
      "metadata": {
        "id": "wDuSZvXDue5f"
      }
    },
    {
      "cell_type": "markdown",
      "source": [
        "#Variable Names\n",
        "\n",
        "Variables\n",
        "Variables are containers for storing data values.\n",
        "\n",
        "Creating Variables\n",
        "Python has no command for declaring a variable.\n",
        "\n",
        "A variable is created the moment you first assign a value to it.\n",
        "A variable can have a short name (like x and y) or a more descriptive name (age, carname, total_volume). \n",
        "Rules for Python variables:\n",
        "A variable name must start with a letter or the underscore character\n",
        "A variable name cannot start with a number\n",
        "A variable name can only contain alpha-numeric characters and underscores (A-z, 0-9, and _ )\n",
        "Variable names are case-sensitive (age, Age and AGE are three different variables) "
      ],
      "metadata": {
        "id": "O9QNuZ6YepHs"
      }
    },
    {
      "cell_type": "code",
      "source": [
        "Legal variable names:\n",
        "\n",
        "myvar = \"rohan\"\n",
        "my_var = \"rohan\"\n",
        "_my_var = \"rohan\"\n",
        "myVar = \"rohan\"\n",
        "MYVAR = \"rohan\"\n",
        "myvar2 = \"rohan\"\n",
        "\n",
        "Example\n",
        "Illegal variable names:\n",
        "\n",
        "2myvar = \"rohan\"\n",
        "my-var = \"rohan\"\n",
        "my var = \"rohan\""
      ],
      "metadata": {
        "id": "41K2ZKRleqWW"
      },
      "execution_count": null,
      "outputs": []
    },
    {
      "cell_type": "code",
      "source": [
        "x = 5\n",
        "y = 'Hello world'\n",
        "\n",
        "a, b, c = \"orange\", \"Banana\", 'Mango'\n",
        "print(a)\n",
        "print(b)\n",
        "print(c)\n",
        "\n",
        "#x=y=z= 'orange'\n",
        "\n"
      ],
      "metadata": {
        "colab": {
          "base_uri": "https://localhost:8080/"
        },
        "id": "_7h8XJs8dH3K",
        "outputId": "d7990122-3984-478e-a172-2c4e247e0ff9"
      },
      "execution_count": 8,
      "outputs": [
        {
          "output_type": "stream",
          "name": "stdout",
          "text": [
            "orange\n",
            "Banana\n",
            "Mango\n"
          ]
        }
      ]
    },
    {
      "cell_type": "markdown",
      "source": [
        "Python Variables - Assign Multiple Values\n",
        "Many Values to Multiple Variables\n",
        "Python allows you to assign values to multiple variables in one line:"
      ],
      "metadata": {
        "id": "AfmgdGdifo-Y"
      }
    },
    {
      "cell_type": "markdown",
      "source": [
        "#Output Variables\n",
        "The Python print statement is often used to output variables.\n",
        "\n",
        "To combine both text and a variable, Python uses the + character:"
      ],
      "metadata": {
        "id": "Dc7jHE5xhIPW"
      }
    },
    {
      "cell_type": "code",
      "source": [
        "# The Python print statement is often used to output variables.\n",
        "# To combine both text and a variable, Python uses the + character\n",
        "x = \"awesome\"\n",
        "print(\"Python is\" + x)\n",
        "\n",
        "#You can also use the + character to add a variable to another variable:\n",
        "x = \"Python is \"\n",
        "y = \"awesome\"\n",
        "z =  x + y\n",
        "print(z)\n",
        "#For numbers, the + character works as a mathematical operator:\n",
        "x = 5\n",
        "y = 10\n",
        "print(x + y)\n",
        "#If you try to combine a string and a number, Python will give you an error:\n",
        "#Error\n",
        "# x = 5\n",
        "# y = \"John\"\n",
        "# print(x + y)"
      ],
      "metadata": {
        "colab": {
          "base_uri": "https://localhost:8080/",
          "height": 253
        },
        "id": "gcc1ti7EhJ5-",
        "outputId": "0e0151b5-e246-42af-e14f-512582fe7f6c"
      },
      "execution_count": 3,
      "outputs": [
        {
          "output_type": "stream",
          "name": "stdout",
          "text": [
            "Python isawesome\n",
            "Python is awesome\n",
            "15\n"
          ]
        },
        {
          "output_type": "error",
          "ename": "TypeError",
          "evalue": "ignored",
          "traceback": [
            "\u001b[0;31m---------------------------------------------------------------------------\u001b[0m",
            "\u001b[0;31mTypeError\u001b[0m                                 Traceback (most recent call last)",
            "\u001b[0;32m<ipython-input-3-272f4c900f22>\u001b[0m in \u001b[0;36m<module>\u001b[0;34m()\u001b[0m\n\u001b[1;32m     19\u001b[0m \u001b[0mx\u001b[0m \u001b[0;34m=\u001b[0m \u001b[0;36m5\u001b[0m\u001b[0;34m\u001b[0m\u001b[0;34m\u001b[0m\u001b[0m\n\u001b[1;32m     20\u001b[0m \u001b[0my\u001b[0m \u001b[0;34m=\u001b[0m \u001b[0;34m\"John\"\u001b[0m\u001b[0;34m\u001b[0m\u001b[0;34m\u001b[0m\u001b[0m\n\u001b[0;32m---> 21\u001b[0;31m \u001b[0mprint\u001b[0m\u001b[0;34m(\u001b[0m\u001b[0mx\u001b[0m \u001b[0;34m+\u001b[0m \u001b[0my\u001b[0m\u001b[0;34m)\u001b[0m\u001b[0;34m\u001b[0m\u001b[0;34m\u001b[0m\u001b[0m\n\u001b[0m",
            "\u001b[0;31mTypeError\u001b[0m: unsupported operand type(s) for +: 'int' and 'str'"
          ]
        }
      ]
    },
    {
      "cell_type": "markdown",
      "source": [
        "#Python Strings"
      ],
      "metadata": {
        "id": "U5VQOlelzJd-"
      }
    },
    {
      "cell_type": "markdown",
      "source": [
        "# Strings\n",
        "Strings in python are surrounded by either single quotation marks, or double quotation marks.\n",
        "\n",
        "'hello' is the same as \"hello\".\n",
        "You can display a string literal with the print() function:"
      ],
      "metadata": {
        "id": "aE6x9ELczY4G"
      }
    },
    {
      "cell_type": "code",
      "source": [
        "#Example\n",
        "print(\"Hello\")\n",
        "print('Hello')\n",
        "\n"
      ],
      "metadata": {
        "id": "U-6b4FXszUYb",
        "colab": {
          "base_uri": "https://localhost:8080/"
        },
        "outputId": "23457ee8-f682-478f-d96c-c935a8cbe563"
      },
      "execution_count": 4,
      "outputs": [
        {
          "output_type": "stream",
          "name": "stdout",
          "text": [
            "Hello\n",
            "Hello\n"
          ]
        }
      ]
    },
    {
      "cell_type": "markdown",
      "source": [
        "#Assign String to a Variable\n",
        "Assigning a string to a variable is done with the variable name followed by an equal sign and the string:"
      ],
      "metadata": {
        "id": "XN9j79JTzjtL"
      }
    },
    {
      "cell_type": "code",
      "source": [
        "#Example\n",
        "a = \"Hello\"\n",
        "print(a)"
      ],
      "metadata": {
        "id": "jBn4dyXRzlXQ",
        "colab": {
          "base_uri": "https://localhost:8080/"
        },
        "outputId": "0ab12ed3-982e-4ed7-d7dd-1a773a67ae38"
      },
      "execution_count": 5,
      "outputs": [
        {
          "output_type": "stream",
          "name": "stdout",
          "text": [
            "Hello\n"
          ]
        }
      ]
    },
    {
      "cell_type": "markdown",
      "source": [
        "#Multiline Strings\n",
        "You can assign a multiline string to a variable by using three quotes:"
      ],
      "metadata": {
        "id": "2HzjXLUcz0Id"
      }
    },
    {
      "cell_type": "code",
      "source": [
        "# Example\n",
        "# You can use three double quotes:\n",
        "\n",
        "a = \"\"\"python is awesome,\n",
        "Python is simple.\"\"\"\n",
        "print(a)\n",
        "\n",
        "#Or three single quotes:\n",
        "#Example\n",
        "a = '''python is awesome,\n",
        "Python is simple.'''\n",
        "print(a)"
      ],
      "metadata": {
        "id": "KxMd9zNCz2cE",
        "colab": {
          "base_uri": "https://localhost:8080/"
        },
        "outputId": "58aa3a2c-deb6-406e-f7de-14811055fb07"
      },
      "execution_count": 7,
      "outputs": [
        {
          "output_type": "stream",
          "name": "stdout",
          "text": [
            "python is awesome,\n",
            "Python is simple.\n",
            "python is awesome,\n",
            "Python is simple.\n"
          ]
        }
      ]
    },
    {
      "cell_type": "code",
      "source": [
        "# Example\n",
        "# Get the character at position 1 (remember that the first character has the position 0):       \n",
        "a = \"Hello, World!\"\n",
        "print(a[1])"
      ],
      "metadata": {
        "id": "DWph3epn03Y9",
        "colab": {
          "base_uri": "https://localhost:8080/"
        },
        "outputId": "50883e92-c80f-4120-c8ab-0e8dae3c0ee1"
      },
      "execution_count": 10,
      "outputs": [
        {
          "output_type": "stream",
          "name": "stdout",
          "text": [
            "e\n"
          ]
        }
      ]
    },
    {
      "cell_type": "code",
      "source": [
        "# Looping Through a String\n",
        "# Since strings are arrays, we can loop through the characters in a string, with a for loop.\n",
        "\n",
        "# Example\n",
        "# Loop through the letters in the word \"banana\":\n",
        "\n",
        "for x in \"banana\":\n",
        "  print(x)"
      ],
      "metadata": {
        "id": "8Pu5krsR08aZ"
      },
      "execution_count": null,
      "outputs": []
    },
    {
      "cell_type": "code",
      "source": [
        "# String Length\n",
        "# To get the length of a string, use the len() function.\n",
        "# Example\n",
        "# The len() function returns the length of a string:\n",
        "\n",
        "a = \"Hello, World!\"\n",
        "print(len(a))\n"
      ],
      "metadata": {
        "id": "RSFe3YBh1DfJ",
        "colab": {
          "base_uri": "https://localhost:8080/"
        },
        "outputId": "6708c622-05d2-4e95-a194-0af540da6ac8"
      },
      "execution_count": 11,
      "outputs": [
        {
          "output_type": "stream",
          "name": "stdout",
          "text": [
            "13\n"
          ]
        }
      ]
    },
    {
      "cell_type": "markdown",
      "source": [
        "#Slicing\n",
        "You can return a range of characters by using the slice syntax.\n",
        "\n",
        "Specify the start index and the end index, separated by a colon, to return a part of the string.\n",
        "\n"
      ],
      "metadata": {
        "id": "xkVG0gU41Wik"
      }
    },
    {
      "cell_type": "code",
      "source": [
        "#Example\n",
        "#Get the characters from position 2 to position 5 (not included):\n",
        "b = \"Hello, World!\"\n",
        "print(b[2:5])\n"
      ],
      "metadata": {
        "id": "1CeXstlK1Z_k",
        "colab": {
          "base_uri": "https://localhost:8080/"
        },
        "outputId": "8578ff3d-6107-457d-a30e-6b05ede93609"
      },
      "execution_count": 14,
      "outputs": [
        {
          "output_type": "stream",
          "name": "stdout",
          "text": [
            "llo\n"
          ]
        }
      ]
    },
    {
      "cell_type": "markdown",
      "source": [
        "#Negative Indexing\n",
        "Use negative indexes to start the slice from the end of the string:\n",
        "Example\n",
        "Get the characters:\n",
        "\n",
        "From: \"o\" in \"World!\" (position -5)\n",
        "\n",
        "To, but not included: \"d\" in \"World!\" (position -2):"
      ],
      "metadata": {
        "id": "DM2KgFvd2cne"
      }
    },
    {
      "cell_type": "code",
      "source": [
        "             \n",
        "b = \"Hello, World!\"\n",
        "print(b[-5:-2])\n",
        "# Get the characters from index 2 to index 4 (llo).\n",
        "txt = \"Hello World\"\n",
        "print(txt[2:4])\n",
        "\n"
      ],
      "metadata": {
        "id": "Jso0ZiEf2edr",
        "colab": {
          "base_uri": "https://localhost:8080/"
        },
        "outputId": "2056ec12-cd58-4519-ddfd-95d33372ed6a"
      },
      "execution_count": 17,
      "outputs": [
        {
          "output_type": "stream",
          "name": "stdout",
          "text": [
            "orl\n",
            "ll\n"
          ]
        }
      ]
    }
  ]
}