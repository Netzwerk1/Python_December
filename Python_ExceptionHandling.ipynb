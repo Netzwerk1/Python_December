{
  "nbformat": 4,
  "nbformat_minor": 0,
  "metadata": {
    "colab": {
      "name": "Python_ExceptionHandling.ipynb",
      "provenance": [],
      "collapsed_sections": []
    },
    "kernelspec": {
      "name": "python3",
      "display_name": "Python 3"
    },
    "language_info": {
      "name": "python"
    }
  },
  "cells": [
    {
      "cell_type": "markdown",
      "source": [
        "#Python Try Except\n",
        "The try block lets you test a block of code for errors.\n",
        "\n",
        "The except block lets you handle the error.\n",
        "\n",
        "The else block lets you execute code when there is no error.\n",
        "\n",
        "The finally block lets you execute code, regardless of the result of the try- and except blocks.\n",
        "\n"
      ],
      "metadata": {
        "id": "zLpOyHsJEuSr"
      }
    },
    {
      "cell_type": "markdown",
      "source": [
        "#Exception Handling\n",
        "When an error occurs, or exception as we call it, Python will normally stop and generate an error message.\n",
        "\n",
        "These exceptions can be handled using the try statement:\n",
        "\n",
        "Example"
      ],
      "metadata": {
        "id": "v0f8NSDAFCnM"
      }
    },
    {
      "cell_type": "code",
      "source": [
        "# Example\n",
        "# The try block will generate an exception, because x is not defined:\n",
        "\n",
        "try:\n",
        "  print(x)\n",
        "except:\n",
        "  print(\"An exception occurred\")"
      ],
      "metadata": {
        "colab": {
          "base_uri": "https://localhost:8080/"
        },
        "id": "UZPMQZ4RFI64",
        "outputId": "6c861db2-2703-44ba-b75b-ed0aca1f0ba5"
      },
      "execution_count": 1,
      "outputs": [
        {
          "output_type": "stream",
          "name": "stdout",
          "text": [
            "An exception occurred\n"
          ]
        }
      ]
    },
    {
      "cell_type": "code",
      "source": [
        "# Since the try block raises an error, the except block will be executed.\n",
        "\n",
        "# Without the try block, the program will crash and raise an error:\n",
        "\n",
        "# Example\n",
        "# This statement will raise an error, because x is not defined:\n",
        "\n",
        "print(x)"
      ],
      "metadata": {
        "colab": {
          "base_uri": "https://localhost:8080/",
          "height": 201
        },
        "id": "2l2o9JJPFSfY",
        "outputId": "1e31bc46-4f28-4e5b-cfb1-31d20793b820"
      },
      "execution_count": 2,
      "outputs": [
        {
          "output_type": "error",
          "ename": "NameError",
          "evalue": "ignored",
          "traceback": [
            "\u001b[0;31m---------------------------------------------------------------------------\u001b[0m",
            "\u001b[0;31mNameError\u001b[0m                                 Traceback (most recent call last)",
            "\u001b[0;32m<ipython-input-2-bfc48b3d011c>\u001b[0m in \u001b[0;36m<module>\u001b[0;34m()\u001b[0m\n\u001b[1;32m      6\u001b[0m \u001b[0;31m# This statement will raise an error, because x is not defined:\u001b[0m\u001b[0;34m\u001b[0m\u001b[0;34m\u001b[0m\u001b[0;34m\u001b[0m\u001b[0m\n\u001b[1;32m      7\u001b[0m \u001b[0;34m\u001b[0m\u001b[0m\n\u001b[0;32m----> 8\u001b[0;31m \u001b[0mprint\u001b[0m\u001b[0;34m(\u001b[0m\u001b[0mx\u001b[0m\u001b[0;34m)\u001b[0m\u001b[0;34m\u001b[0m\u001b[0;34m\u001b[0m\u001b[0m\n\u001b[0m",
            "\u001b[0;31mNameError\u001b[0m: name 'x' is not defined"
          ]
        }
      ]
    },
    {
      "cell_type": "markdown",
      "source": [
        "#Else"
      ],
      "metadata": {
        "id": "qB0gOzVXFr4L"
      }
    },
    {
      "cell_type": "code",
      "source": [
        "# Else\n",
        "# You can use the else keyword to define a block of code to be executed if no errors were raised:\n",
        "\n",
        "# Example\n",
        "# In this example, the try block does not generate any error:\n",
        "\n",
        "try:\n",
        "  print(\"Hello\")\n",
        "except:\n",
        "  print(\"Something went wrong\")\n",
        "else:\n",
        "  print(\"Nothing went wrong\")"
      ],
      "metadata": {
        "colab": {
          "base_uri": "https://localhost:8080/"
        },
        "id": "QTTIZcMdGSX8",
        "outputId": "d0fac7cd-bc2f-4cc4-8b6f-303be02ee258"
      },
      "execution_count": 3,
      "outputs": [
        {
          "output_type": "stream",
          "name": "stdout",
          "text": [
            "Hello\n",
            "Nothing went wrong\n"
          ]
        }
      ]
    },
    {
      "cell_type": "markdown",
      "source": [
        "#Finally\n",
        "The finally block, if specified, will be executed regardless if the try block raises an error or not.\n"
      ],
      "metadata": {
        "id": "oUmc0wjqGaaq"
      }
    },
    {
      "cell_type": "code",
      "source": [
        "#Example\n",
        "try:\n",
        "  print(x)\n",
        "except:\n",
        "  print(\"Something went wrong\")\n",
        "finally:\n",
        "  print(\"The 'try except' is finished\")\n"
      ],
      "metadata": {
        "colab": {
          "base_uri": "https://localhost:8080/"
        },
        "id": "1LI8H9qdGeJc",
        "outputId": "9b6100db-4786-457e-fd9d-e91cde10c906"
      },
      "execution_count": 4,
      "outputs": [
        {
          "output_type": "stream",
          "name": "stdout",
          "text": [
            "Something went wrong\n",
            "The 'try except' is finished\n"
          ]
        }
      ]
    }
  ]
}