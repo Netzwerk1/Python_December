{
  "nbformat": 4,
  "nbformat_minor": 0,
  "metadata": {
    "colab": {
      "name": "Python_Introduction.ipynb",
      "provenance": [],
      "collapsed_sections": []
    },
    "kernelspec": {
      "name": "python3",
      "display_name": "Python 3"
    },
    "language_info": {
      "name": "python"
    }
  },
  "cells": [
    {
      "cell_type": "code",
      "execution_count": null,
      "metadata": {
        "id": "b9PTQgbfm5Pi"
      },
      "outputs": [],
      "source": [
        ""
      ]
    },
    {
      "cell_type": "markdown",
      "source": [
        "#Python"
      ],
      "metadata": {
        "id": "cIX8tKOSm6E4"
      }
    },
    {
      "cell_type": "code",
      "source": [
        "print('Hello World')"
      ],
      "metadata": {
        "colab": {
          "base_uri": "https://localhost:8080/"
        },
        "id": "_vp0Bx-bm9vw",
        "outputId": "a64cd91b-ea9b-45db-8bc1-f2f6d7abebcd"
      },
      "execution_count": 1,
      "outputs": [
        {
          "output_type": "stream",
          "name": "stdout",
          "text": [
            "Hello World\n"
          ]
        }
      ]
    },
    {
      "cell_type": "markdown",
      "source": [
        "Python will give you an error if you skip the #indentation:"
      ],
      "metadata": {
        "id": "Od-iWYtloY7_"
      }
    },
    {
      "cell_type": "code",
      "source": [
        "#Syntax Error\n",
        "# if 5 > 2:\n",
        "# print(\"Five is greater than two!\") \n",
        "\n",
        "if 5 > 2: \n",
        "  print(\"Five is greater than two!\")\n",
        "\n",
        "#The number of spaces is up to you as a programmer, but it has to be at least one.\n",
        "if 5 > 2:\n",
        " print(\"Five is greater than two!\") \n",
        "if 5 > 2:\n",
        "        print(\"Five is greater than two!\") \n",
        "#You have to use the same number of spaces in the same block of code, otherwise Python will give you an error:\n",
        "if 5 > 2:\n",
        " print(\"Five is greater than two!\")\n",
        "       print(\"Five is greater than two!\")\n",
        "       \n",
        "\n",
        "\n",
        "     \n"
      ],
      "metadata": {
        "colab": {
          "base_uri": "https://localhost:8080/"
        },
        "id": "_zWTKI8mobzN",
        "outputId": "237300a0-8315-4561-e6cc-c6b365b31dfd"
      },
      "execution_count": 4,
      "outputs": [
        {
          "output_type": "stream",
          "name": "stdout",
          "text": [
            "Five is greater than two!\n",
            "Five is greater than two!\n",
            "Five is greater than two!\n",
            "Five is greater than two!\n",
            "Five is greater than two!\n"
          ]
        }
      ]
    },
    {
      "cell_type": "markdown",
      "source": [
        "#Comments\n",
        "Comments can be used to explain Python code.\n",
        "Comments can be used to make the code more readable.\n",
        "Comments can be used to prevent execution when testing code.\n",
        "\n"
      ],
      "metadata": {
        "id": "erWFOBu1Xjoc"
      }
    },
    {
      "cell_type": "markdown",
      "source": [
        "Creating a Comment\n",
        "Comments starts with a #, and Python will ignore them:"
      ],
      "metadata": {
        "id": "xCQf1cOlX2QJ"
      }
    },
    {
      "cell_type": "code",
      "source": [
        "#This is a comment\n",
        "print(\"Hello, World!\")\n",
        "print(\"Hello, World!\") #This is a comment\n",
        "#A comment does not have to be text that explains the code, it can also be used to prevent Python from executing code:\n",
        "#print(\"Hello, World!\")\n",
        "print(\"Cheers, Mate!\")"
      ],
      "metadata": {
        "id": "bsaOJe4TXt9H"
      },
      "execution_count": null,
      "outputs": []
    },
    {
      "cell_type": "markdown",
      "source": [
        "#Multi Line Comments\n",
        "Python does not really have a syntax for multi line comments.\n",
        "To add a multiline comment you could insert a # for each line:"
      ],
      "metadata": {
        "id": "tyhxNH9QY0p-"
      }
    },
    {
      "cell_type": "code",
      "source": [
        "#This is a comment\n",
        "#written in\n",
        "#more than just one line\n",
        "print(\"Hello, World!\")"
      ],
      "metadata": {
        "id": "4Zqpz3UIY6Wx"
      },
      "execution_count": null,
      "outputs": []
    },
    {
      "cell_type": "markdown",
      "source": [
        "Since Python will ignore string literals that are not assigned to a variable, you can add a multiline string (triple quotes) in your code, and place your comment inside it:"
      ],
      "metadata": {
        "id": "rtfLAbvGZBqg"
      }
    },
    {
      "cell_type": "code",
      "source": [
        "\"\"\" \n",
        "This is a comment\n",
        "written in\n",
        "more than just one line\n",
        "\"\"\"\n",
        "print(\"Hello, World!\")"
      ],
      "metadata": {
        "colab": {
          "base_uri": "https://localhost:8080/"
        },
        "id": "u_mkdQVpZOOh",
        "outputId": "87c5eca2-ce21-4fa1-84e7-259a7403cdaf"
      },
      "execution_count": 2,
      "outputs": [
        {
          "output_type": "stream",
          "name": "stdout",
          "text": [
            "Hello, World!\n"
          ]
        }
      ]
    }
  ]
}