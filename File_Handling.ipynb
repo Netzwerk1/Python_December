{
  "nbformat": 4,
  "nbformat_minor": 0,
  "metadata": {
    "colab": {
      "name": "File_Handling.ipynb",
      "provenance": []
    },
    "kernelspec": {
      "name": "python3",
      "display_name": "Python 3"
    },
    "language_info": {
      "name": "python"
    }
  },
  "cells": [
    {
      "cell_type": "markdown",
      "source": [
        "#FILE HANDLING"
      ],
      "metadata": {
        "id": "-KVzOVa2mxAO"
      }
    },
    {
      "cell_type": "markdown",
      "source": [
        "File Handling\n",
        "The key function for working with files in Python is the open() function.\n",
        "The open() function takes two parameters; filename, and mode.\n"
      ],
      "metadata": {
        "id": "Xs0bii_RmKo-"
      }
    },
    {
      "cell_type": "markdown",
      "source": [
        ""
      ],
      "metadata": {
        "id": "5q_4Ya7ldclM"
      }
    },
    {
      "cell_type": "markdown",
      "source": [
        "Python has several functions for creating, reading, updating, and deleting files.\n",
        "#\n",
        "There are four different methods (modes) for opening a file:\n",
        "\n",
        "\n"
      ],
      "metadata": {
        "id": "exjdYLpJlspN"
      }
    },
    {
      "cell_type": "markdown",
      "source": [
        "\"r\" - Read - Default value. Opens a file for reading, error if the file does not exist\n",
        "\n",
        "\"a\" - Append - Opens a file for appending, creates the file if it does not exist\n",
        "\n",
        "\"w\" - Write - Opens a file for writing, creates the file if it does not exist\n",
        "\n",
        "\"x\" - Create - Creates the specified file, returns an error if the file exists\n",
        "\n",
        "In addition you can specify if the file should be handled as binary or text mode\n",
        "\n",
        "\"t\" - Text - Default value. Text mode\n",
        "\n",
        "\"b\" - Binary - Binary mode (e.g. images)"
      ],
      "metadata": {
        "id": "6YHJHUi8mFFL"
      }
    },
    {
      "cell_type": "markdown",
      "source": [
        "#Starts"
      ],
      "metadata": {
        "id": "gqYVGTmFYUmT"
      }
    },
    {
      "cell_type": "code",
      "source": [
        "# Syntax\n",
        "# To open a file for reading it is enough to specify the name of the file:\n",
        "f = open(\"Demofile.txt\")"
      ],
      "metadata": {
        "id": "Mw6ZPGOwYWon"
      },
      "execution_count": 36,
      "outputs": []
    },
    {
      "cell_type": "code",
      "source": [
        "#The code above is the same as:\n",
        "\n",
        "f = open(\"Demofile.txt\", \"rt\")\n",
        "# Because \"r\" for read\n",
        "# Note: Make sure the file exists, or else you will get an error."
      ],
      "metadata": {
        "id": "rOWoebo8YjV-"
      },
      "execution_count": 35,
      "outputs": []
    },
    {
      "cell_type": "code",
      "source": [
        "#To open the file, use the built-in open() function.\n",
        "\n",
        "#The open() function returns a file object, which has a read() method for reading the content of the file:\n",
        "\n",
        "#Example\n",
        "f = open(\"Demofile.txt\", \"r\")\n",
        "print(f.read())"
      ],
      "metadata": {
        "colab": {
          "base_uri": "https://localhost:8080/"
        },
        "id": "RgZ-MfRNZGUH",
        "outputId": "c577712f-618a-4efa-eaa9-655c01f9b9ef"
      },
      "execution_count": 38,
      "outputs": [
        {
          "output_type": "stream",
          "name": "stdout",
          "text": [
            "Welcome to demofile.\n"
          ]
        }
      ]
    },
    {
      "cell_type": "code",
      "source": [
        "# By looping through the lines of the file, you can read the whole file, line by line:\n",
        "\n",
        "# Example\n",
        "# Loop through the file line by line:\n",
        "\n",
        "f = open(\"Demofile.txt\", \"r\")\n",
        "for x in f:\n",
        "  print(x)"
      ],
      "metadata": {
        "colab": {
          "base_uri": "https://localhost:8080/"
        },
        "id": "Z8YVcWLTZ6I-",
        "outputId": "b4a458f3-8086-4107-ee98-6c299bdd1455"
      },
      "execution_count": 39,
      "outputs": [
        {
          "output_type": "stream",
          "name": "stdout",
          "text": [
            "Welcome to demofile.\n"
          ]
        }
      ]
    },
    {
      "cell_type": "code",
      "source": [
        "# Close Files\n",
        "# It is a good practice to always close the file when you are done with it.\n",
        "# Example\n",
        "# Close the file when you are finish with it:\n",
        "\n",
        "f = open(\"Demofile.txt\", \"r\")\n",
        "print(f.readline())\n",
        "f.close()\n",
        "# Note: You should always close your files, in some cases, due to buffering, changes made to a file may not show until you close the file."
      ],
      "metadata": {
        "colab": {
          "base_uri": "https://localhost:8080/"
        },
        "id": "fHeWBmCSaNPs",
        "outputId": "5ce6a59f-2141-498d-f92f-5889c0c20f2a"
      },
      "execution_count": 40,
      "outputs": [
        {
          "output_type": "stream",
          "name": "stdout",
          "text": [
            "Welcome to demofile.\n"
          ]
        }
      ]
    },
    {
      "cell_type": "code",
      "source": [
        "#Python File Write\n",
        "# Write to an Existing File\n",
        "# To write to an existing file, you must add a parameter to the open() function:\n",
        "\n",
        "# \"a\" - Append - will append to the end of the file\n",
        "\n",
        "# \"w\" - Write - will overwrite any existing content\n",
        "# Example\n",
        "# Open the file \"demofile2.txt\" and append content to the file:\n",
        "\n",
        "f = open(\"Demofile.txt\", \"a\")\n",
        "f.write(\"Now the file has more new contents\")\n",
        "f.close()\n",
        "\n",
        "#open and read the file after the appending:\n",
        "f = open(\"Demofile.txt\", \"r\")\n",
        "print(f.read())"
      ],
      "metadata": {
        "colab": {
          "base_uri": "https://localhost:8080/"
        },
        "id": "F2Xb9VoTaqDV",
        "outputId": "3e443087-e27a-40ad-b081-f07e61a6e883"
      },
      "execution_count": 43,
      "outputs": [
        {
          "output_type": "stream",
          "name": "stdout",
          "text": [
            "Now the file has more content!Now the file has more new contents\n"
          ]
        }
      ]
    },
    {
      "cell_type": "code",
      "source": [
        "# Example\n",
        "# Open the file \"demofile3.txt\" and overwrite the content:\n",
        "\n",
        "f = open(\"dummyfile1.txt\", \"a\")\n",
        "f.write(\"I have created a file in append mode\")\n",
        "f.close()\n",
        "\n",
        "#open and read the file after the appending:\n",
        "f = open(\"dummyfile1.txt\", \"r\")\n",
        "print(f.read())\n",
        "#Note: the \"w\" method will overwrite the entire file.\n",
        "\n"
      ],
      "metadata": {
        "colab": {
          "base_uri": "https://localhost:8080/"
        },
        "id": "jPNqPLcBa9So",
        "outputId": "8cb5c33a-a1fa-4703-baf9-138076d47e38"
      },
      "execution_count": 45,
      "outputs": [
        {
          "output_type": "stream",
          "name": "stdout",
          "text": [
            "I have created a file in append mode\n"
          ]
        }
      ]
    },
    {
      "cell_type": "code",
      "source": [
        "# Create a New File\n",
        "# To create a new file in Python, use the open() method, with one of the following parameters:\n",
        "\n",
        "# \"x\" - Create - will create a file, returns an error if the file exist\n",
        "\n",
        "# \"a\" - Append - will create a file if the specified file does not exist\n",
        "\n",
        "# \"w\" - Write - will create a file if the specified file does not exist\n",
        "\n",
        "# Example\n",
        "# Create a file called \"myfile.txt\":\n",
        "\n",
        "f = open(\"dummyfile3.txt\", \"x\")\n",
        "#Result: a new empty file is created!\n",
        "# Example\n",
        "# Create a new file if it does not exist:\n",
        "\n",
        "#f = open(\"myfile.txt\", \"w\")"
      ],
      "metadata": {
        "id": "UW4pxDBwbYyj"
      },
      "execution_count": 53,
      "outputs": []
    },
    {
      "cell_type": "code",
      "source": [
        "# Delete a File\n",
        "# To delete a file, you must import the OS module, and run its os.remove() function:\n",
        "\n",
        "# Example\n",
        "# Remove the file \"demofile.txt\":\n",
        "\n",
        "import os\n",
        "os.remove(\"myfile.txt\")"
      ],
      "metadata": {
        "id": "m2YxZZvXbMYI"
      },
      "execution_count": 49,
      "outputs": []
    },
    {
      "cell_type": "code",
      "source": [
        "# Check if File exist:\n",
        "# To avoid getting an error, you might want to check if the file exists before you try to delete it:\n",
        "\n",
        "# Example\n",
        "# Check if file exists, then delete it:\n",
        "\n",
        "import os\n",
        "if os.path.exists(\"dummyfile3.txt\"):\n",
        "  os.remove(\"dummyfile3.txt\")\n",
        "else:\n",
        "  print(\"The file does not exist\")"
      ],
      "metadata": {
        "id": "vw_D5g6mb8wo"
      },
      "execution_count": 52,
      "outputs": []
    }
  ]
}