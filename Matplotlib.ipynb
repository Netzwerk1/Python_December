{
  "nbformat": 4,
  "nbformat_minor": 0,
  "metadata": {
    "colab": {
      "name": "Matplotlib.ipynb",
      "provenance": [],
      "collapsed_sections": []
    },
    "kernelspec": {
      "name": "python3",
      "display_name": "Python 3"
    },
    "language_info": {
      "name": "python"
    }
  },
  "cells": [
    {
      "cell_type": "code",
      "source": [
        ""
      ],
      "metadata": {
        "id": "zXJfOiOKEjWh"
      },
      "execution_count": null,
      "outputs": []
    },
    {
      "cell_type": "markdown",
      "source": [
        "#What is Matplotlib?\n",
        "Matplotlib is a plotting library for the Python programming language .\n",
        "Matplotlib is a plotting library in python that serves as a visualization utility.\n",
        "\n",
        "Matplotlib is open source and we can use it freely.\n"
      ],
      "metadata": {
        "id": "jwJyOx8ZK9Vy"
      }
    },
    {
      "cell_type": "markdown",
      "source": [
        ""
      ],
      "metadata": {
        "id": "AjIGr3mFEkwv"
      }
    },
    {
      "cell_type": "markdown",
      "source": [
        "#Import Matplotlib\n"
      ],
      "metadata": {
        "id": "U1lHryfO7ydj"
      }
    },
    {
      "cell_type": "code",
      "source": [
        "import matplotlib"
      ],
      "metadata": {
        "id": "4m5E8dsa8Fji"
      },
      "execution_count": 24,
      "outputs": []
    },
    {
      "cell_type": "code",
      "source": [
        "# Pyplot\n",
        "# Most of the Matplotlib utilities lies under the pyplot submodule, and are usually imported under the plt alias:\n",
        "\n",
        "import matplotlib.pyplot as plt\n",
        "#Now the Pyplot package can be referred to as plt."
      ],
      "metadata": {
        "id": "cnehj-Zy8PMK"
      },
      "execution_count": 26,
      "outputs": []
    },
    {
      "cell_type": "code",
      "source": [
        "import matplotlib.pyplot as plt\n",
        "import numpy as np\n",
        "xpoints = np.array([0, 6])\n",
        "ypoints = np.array([0, 250])\n",
        "plt.plot(xpoints, ypoints)\n",
        "# plt.plot()\n",
        "plt.show()"
      ],
      "metadata": {
        "colab": {
          "base_uri": "https://localhost:8080/",
          "height": 265
        },
        "id": "ELj5axIt8fGc",
        "outputId": "19c1ff48-8ae9-4945-b526-af8fbe2dd3ba"
      },
      "execution_count": 31,
      "outputs": [
        {
          "output_type": "display_data",
          "data": {
            "image/png": "[encoded data removed]",
            "text/plain": [
              "<Figure size 432x288 with 1 Axes>"
            ]
          },
          "metadata": {
            "needs_background": "light"
          }
        }
      ]
    },
    {
      "cell_type": "markdown",
      "source": [
        "Plotting x and y points\n",
        "The plot() function is used to draw points (markers) in a diagram.\n",
        "\n",
        "By default, the plot() function draws a line from point to point.\n",
        "\n",
        "The function takes parameters for specifying points in the diagram.\n",
        "\n",
        "Parameter 1 is an array containing the points on the x-axis.\n",
        "\n",
        "Parameter 2 is an array containing the points on the y-axis.\n",
        "\n",
        "If we need to plot a line from (1, 3) to (8, 10), we have to pass two arrays [1, 8] and [3, 10] to the plot function."
      ],
      "metadata": {
        "id": "eF214zSJ88ni"
      }
    },
    {
      "cell_type": "code",
      "source": [
        "# Example\n",
        "# Draw a line in a diagram from position (1, 3) to position (8, 10):\n",
        "\n",
        "import matplotlib.pyplot as plt\n",
        "import numpy as np\n",
        "\n",
        "xpoints = np.array([1, 8])\n",
        "ypoints = np.array([3, 10])\n",
        "\n",
        "plt.plot(xpoints, ypoints)\n",
        "plt.show()\n",
        "# The x-axis is the horizontal axis.\n",
        "# The y-axis is the vertical axis."
      ],
      "metadata": {
        "colab": {
          "base_uri": "https://localhost:8080/",
          "height": 265
        },
        "id": "ckt0t_Oa89nl",
        "outputId": "519808f4-1b9f-4026-c2e9-690478b698c8"
      },
      "execution_count": 30,
      "outputs": [
        {
          "output_type": "display_data",
          "data": {
            "image/png": "[encoded data removed]",
            "text/plain": [
              "<Figure size 432x288 with 1 Axes>"
            ]
          },
          "metadata": {
            "needs_background": "light"
          }
        }
      ]
    },
    {
      "cell_type": "markdown",
      "source": [
        "Matplotlib Labels and Title"
      ],
      "metadata": {
        "id": "UeZXU4859j_q"
      }
    },
    {
      "cell_type": "code",
      "source": [
        "# Create Labels for a Plot\n",
        "# With Pyplot, you can use the xlabel() and ylabel() functions to set a label for the x- and y-axis.\n",
        "\n",
        "# Example\n",
        "# Add labels to the x- and y-axis:\n",
        "\n",
        "import numpy as np\n",
        "import matplotlib.pyplot as plt\n",
        "\n",
        "x = np.array([80, 85, 90, 95, 100, 105, 110, 115, 120, 125])\n",
        "y = np.array([240, 250, 260, 270, 280, 290, 300, 310, 320, 330])\n",
        "\n",
        "plt.plot(x, y)\n",
        "\n",
        "plt.xlabel(\"Average Pulse\")\n",
        "plt.ylabel(\"Calorie Burnage\")\n",
        "\n",
        "plt.show()"
      ],
      "metadata": {
        "colab": {
          "base_uri": "https://localhost:8080/",
          "height": 279
        },
        "id": "HAMXHawD9kws",
        "outputId": "c352354c-4377-483b-f493-26a1e987eb6e"
      },
      "execution_count": 36,
      "outputs": [
        {
          "output_type": "display_data",
          "data": {
            "image/png": "[encoded data removed]",
            "text/plain": [
              "<Figure size 432x288 with 1 Axes>"
            ]
          },
          "metadata": {
            "needs_background": "light"
          }
        }
      ]
    },
    {
      "cell_type": "code",
      "source": [
        "# Create a Title for a Plot\n",
        "# With Pyplot, you can use the title() function to set a title for the plot.\n",
        "\n",
        "# Example\n",
        "# Add a plot title and labels for the x- and y-axis:\n",
        "\n",
        "import numpy as np\n",
        "import matplotlib.pyplot as plt\n",
        "\n",
        "x = np.array([80, 85, 90, 95, 100, 105, 110, 115, 120, 125])\n",
        "y = np.array([240, 250, 260, 270, 280, 290, 300, 310, 320, 330])\n",
        "\n",
        "plt.plot(x, y)\n",
        "\n",
        "plt.title(\"Sports Watch Data\")\n",
        "plt.xlabel(\"Average Pulse\")\n",
        "plt.ylabel(\"Calorie Burnage\")\n",
        "\n",
        "plt.show()"
      ],
      "metadata": {
        "colab": {
          "base_uri": "https://localhost:8080/",
          "height": 295
        },
        "id": "M-FhP2pA96qQ",
        "outputId": "22737862-b3fa-46ca-a090-48cce7360707"
      },
      "execution_count": 37,
      "outputs": [
        {
          "output_type": "display_data",
          "data": {
            "image/png": "[encoded data removed]",
            "text/plain": [
              "<Figure size 432x288 with 1 Axes>"
            ]
          },
          "metadata": {
            "needs_background": "light"
          }
        }
      ]
    },
    {
      "cell_type": "code",
      "source": [
        "# Add Grid Lines to a Plot\n",
        "# With Pyplot, you can use the grid() function to add grid lines to the plot.\n",
        "\n",
        "# Example\n",
        "# Add grid lines to the plot:\n",
        "\n",
        "import numpy as np\n",
        "import matplotlib.pyplot as plt\n",
        "\n",
        "x = np.array([80, 85, 90, 95, 100, 105, 110, 115, 120, 125])\n",
        "y = np.array([240, 250, 260, 270, 280, 290, 300, 310, 320, 330])\n",
        "\n",
        "plt.title(\"Sports Watch Data\")\n",
        "plt.xlabel(\"Average Pulse\")\n",
        "plt.ylabel(\"Calorie Burnage\")\n",
        "\n",
        "plt.plot(x, y)\n",
        "\n",
        "plt.grid()\n",
        "\n",
        "plt.show()"
      ],
      "metadata": {
        "colab": {
          "base_uri": "https://localhost:8080/",
          "height": 295
        },
        "id": "hx6ojWMk-Vmm",
        "outputId": "69e658f8-5c01-426f-bdc5-564ddf8e42fc"
      },
      "execution_count": 38,
      "outputs": [
        {
          "output_type": "display_data",
          "data": {
            "image/png": "[encoded data removed]",
            "text/plain": [
              "<Figure size 432x288 with 1 Axes>"
            ]
          },
          "metadata": {
            "needs_background": "light"
          }
        }
      ]
    },
    {
      "cell_type": "markdown",
      "source": [
        "# Scatter Plots\n",
        "With Pyplot, you can use the scatter() function to draw a scatter plot.\n",
        "\n",
        "The scatter() function plots one dot for each observation. It needs two arrays of the same length, one for the values of the x-axis, and one for values on the y-axis:"
      ],
      "metadata": {
        "id": "6bB9zmlh-l3d"
      }
    },
    {
      "cell_type": "code",
      "source": [
        "#[\"red\",\"green\",\"blue\",\"yellow\",\"pink\",\"black\",\"orange\",\"purple\",\"beige\",\"brown\",\"gray\",\"cyan\",\"magenta\"]\n",
        "# Example\n",
        "# A simple scatter plot:\n",
        "\n",
        "import matplotlib.pyplot as plt\n",
        "import numpy as np\n",
        "\n",
        "x = np.array([5,7,8,7,2,17,2,9,4,11,12,9,6])\n",
        "y = np.array([99,86,87,88,111,86,103,87,94,78,77,85,86])\n",
        "\n",
        "plt.scatter(x, y, color = 'red')\n",
        "plt.show()"
      ],
      "metadata": {
        "colab": {
          "base_uri": "https://localhost:8080/",
          "height": 265
        },
        "id": "H5rGYXXV-nP0",
        "outputId": "ea9f9094-80a8-4509-a64e-249fedd25f78"
      },
      "execution_count": 42,
      "outputs": [
        {
          "output_type": "display_data",
          "data": {
            "image/png": "[encoded data removed]",
            "text/plain": [
              "<Figure size 432x288 with 1 Axes>"
            ]
          },
          "metadata": {
            "needs_background": "light"
          }
        }
      ]
    },
    {
      "cell_type": "markdown",
      "source": [
        "The observation in the example above is the result of 13 cars passing by.\n",
        "\n",
        "The X-axis shows how old the car is.\n",
        "\n",
        "The Y-axis shows the speed of the car when it passes.\n",
        "\n",
        "Are there any relationships between the observations?\n",
        "\n",
        "It seems that the newer the car, the faster it drives."
      ],
      "metadata": {
        "id": "gHJUZeqa_C1o"
      }
    },
    {
      "cell_type": "markdown",
      "source": [
        "#Matplotlib Bars"
      ],
      "metadata": {
        "id": "KfDZvDnOAbMf"
      }
    },
    {
      "cell_type": "code",
      "source": [
        "# Creating Bars\n",
        "# With Pyplot, you can use the bar() function to draw bar graphs:\n",
        "# Example\n",
        "# Draw 4 bars:\n",
        "\n",
        "import matplotlib.pyplot as plt\n",
        "import numpy as np\n",
        "\n",
        "x = np.array([\"A\", \"B\", \"C\", \"D\"])\n",
        "y = np.array([3, 8, 1, 10])\n",
        "\n",
        "plt.bar(x,y, color = 'purple')\n",
        "plt.show()"
      ],
      "metadata": {
        "colab": {
          "base_uri": "https://localhost:8080/",
          "height": 265
        },
        "id": "OLTdOhs7AcWA",
        "outputId": "7a0f4f17-814c-426b-8394-a46f5c66e3d5"
      },
      "execution_count": 45,
      "outputs": [
        {
          "output_type": "display_data",
          "data": {
            "image/png": "[encoded data removed]",
            "text/plain": [
              "<Figure size 432x288 with 1 Axes>"
            ]
          },
          "metadata": {
            "needs_background": "light"
          }
        }
      ]
    },
    {
      "cell_type": "code",
      "source": [
        "# The bar() function takes arguments that describes the layout of the bars.\n",
        "\n",
        "# The categories and their values represented by the first and second argument as arrays.\n",
        "\n",
        "# Example\n",
        "x = [\"APPLES\", \"BANANAS\"]\n",
        "y = [400, 350]\n",
        "plt.bar(x, y)"
      ],
      "metadata": {
        "colab": {
          "base_uri": "https://localhost:8080/",
          "height": 283
        },
        "id": "2LDhmXNzA0Zd",
        "outputId": "41d647e9-bf53-4953-f56b-6412ad0535e5"
      },
      "execution_count": 50,
      "outputs": [
        {
          "output_type": "execute_result",
          "data": {
            "text/plain": [
              "<BarContainer object of 2 artists>"
            ]
          },
          "metadata": {},
          "execution_count": 50
        },
        {
          "output_type": "display_data",
          "data": {
            "image/png": "[encoded data removed]",
            "text/plain": [
              "<Figure size 432x288 with 1 Axes>"
            ]
          },
          "metadata": {
            "needs_background": "light"
          }
        }
      ]
    },
    {
      "cell_type": "code",
      "source": [
        "# Bar Color\n",
        "# The bar() and barh() takes the keyword argument color to set the color of the bars:\n",
        "# Example\n",
        "# Draw 4 red bars:\n",
        "\n",
        "import matplotlib.pyplot as plt\n",
        "import numpy as np\n",
        "\n",
        "x = np.array([\"A\", \"B\", \"C\", \"D\"])\n",
        "y = np.array([3, 8, 1, 10])\n",
        "\n",
        "plt.bar(x, y, color = \"red\")\n",
        "plt.show()"
      ],
      "metadata": {
        "colab": {
          "base_uri": "https://localhost:8080/",
          "height": 265
        },
        "id": "nGD-IYkqA2ed",
        "outputId": "9d76f4e4-e211-428b-aba2-8aab96c63315"
      },
      "execution_count": 47,
      "outputs": [
        {
          "output_type": "display_data",
          "data": {
            "image/png": "[encoded data removed]",
            "text/plain": [
              "<Figure size 432x288 with 1 Axes>"
            ]
          },
          "metadata": {
            "needs_background": "light"
          }
        }
      ]
    },
    {
      "cell_type": "code",
      "source": [
        "# Bar Width\n",
        "# The bar() takes the keyword argument width to set the width of the bars:\n",
        "\n",
        "# Example\n",
        "# Draw 4 very thin bars:\n",
        "\n",
        "import matplotlib.pyplot as plt\n",
        "import numpy as np\n",
        "\n",
        "x = np.array([\"A\", \"B\", \"C\", \"D\"])\n",
        "y = np.array([3, 8, 1, 10])\n",
        "\n",
        "plt.bar(x, y, width = 0.1)\n",
        "plt.show()"
      ],
      "metadata": {
        "colab": {
          "base_uri": "https://localhost:8080/",
          "height": 265
        },
        "id": "3FfwiAPTBIG_",
        "outputId": "4d8d2313-3bf4-4728-8943-8a7c072870b1"
      },
      "execution_count": 49,
      "outputs": [
        {
          "output_type": "display_data",
          "data": {
            "image/png": "[encoded data removed]",
            "text/plain": [
              "<Figure size 432x288 with 1 Axes>"
            ]
          },
          "metadata": {
            "needs_background": "light"
          }
        }
      ]
    },
    {
      "cell_type": "markdown",
      "source": [
        "#Matplotlib Histograms\n",
        "Histogram\n",
        "A histogram is a graph showing frequency distributions.\n",
        "\n",
        "It is a graph showing the number of observations within each given interval.\n",
        "In Matplotlib, we use the hist() function to create histograms.\n",
        "\n",
        "The hist() function will use an array of numbers to create a histogram, the array is sent into the function as an argument.\n",
        "\n"
      ],
      "metadata": {
        "id": "vNA1Tg20BcYx"
      }
    },
    {
      "cell_type": "code",
      "source": [
        ""
      ],
      "metadata": {
        "id": "gmhMppAtBfU8"
      },
      "execution_count": null,
      "outputs": []
    },
    {
      "cell_type": "code",
      "source": [
        "# For simplicity we use NumPy to randomly generate an array with 250 values, where the values will concentrate around 170, and the standard deviation is 10. \n",
        "\n",
        "# Example\n",
        "# A Normal Data Distribution by NumPy:\n",
        "\n",
        "import numpy as np\n",
        "\n",
        "x = np.random.normal(170, 10, 250)\n",
        "\n",
        "print(x)"
      ],
      "metadata": {
        "colab": {
          "base_uri": "https://localhost:8080/"
        },
        "id": "SCb9Vg42B-qJ",
        "outputId": "d5ddcda3-4809-45d7-95bd-bca9c00064a7"
      },
      "execution_count": 51,
      "outputs": [
        {
          "output_type": "stream",
          "name": "stdout",
          "text": [
            "[169.0339604  161.93443718 177.22423415 161.90774249 176.03557708\n",
            " 179.356707   171.72016357 158.02454402 149.02243001 151.39608433\n",
            " 170.42962747 167.92306353 165.20854905 182.40782906 180.94994581\n",
            " 172.70845074 182.23308698 165.261512   153.10454012 167.10123147\n",
            " 182.76024776 163.57773174 188.22861373 180.1533992  174.04981119\n",
            " 164.25816537 176.23596282 173.54340045 165.42688732 159.63382624\n",
            " 160.09035501 176.69411535 165.86615433 174.23041495 169.72847578\n",
            " 184.59887081 173.34188119 177.64810632 178.87885876 166.56699605\n",
            " 164.01610576 182.99967293 177.89327721 167.16223512 150.53340423\n",
            " 161.46106248 170.2886904  171.96797392 171.91073885 165.29287962\n",
            " 170.64707611 175.43451729 167.14231643 166.05977555 181.83569184\n",
            " 171.36646095 169.77788495 169.07944756 160.1028268  185.46633325\n",
            " 182.38591309 176.62903385 166.82695603 173.01475676 170.1181923\n",
            " 161.65020951 158.78862362 159.25569847 171.21355124 167.19518501\n",
            " 163.75531946 150.71377766 176.5483221  169.13686217 157.31375181\n",
            " 165.49257418 173.6108341  159.50983486 164.23209292 180.98727043\n",
            " 181.36857947 156.19642374 156.0456709  154.77044367 158.96926621\n",
            " 177.20254122 173.47626239 164.74239899 168.60818681 162.01104011\n",
            " 180.47303483 180.96818032 153.79522337 169.96254227 158.0444829\n",
            " 167.58143376 177.26095363 174.82695795 185.6014387  173.9765936\n",
            " 161.42984223 196.30427196 168.05833664 163.52650771 158.85161725\n",
            " 156.84945539 161.97468121 161.30429926 171.0359341  165.02814435\n",
            " 164.13004605 146.23461759 163.73488543 177.37033282 162.33739601\n",
            " 163.50957272 154.63461898 164.83342271 173.50426127 174.64999656\n",
            " 183.88362253 175.54018405 171.88463524 174.10590734 186.20980148\n",
            " 166.31379295 176.78229799 166.20074678 168.99815519 178.45104874\n",
            " 171.44034318 185.26230582 172.17385076 174.25933246 164.39993333\n",
            " 157.98722158 177.09130718 177.00721006 166.65114125 148.18543328\n",
            " 152.97865872 178.02289073 170.23793987 177.56061845 164.67550902\n",
            " 173.90573229 163.49075827 161.04209189 167.87576335 162.88466284\n",
            " 176.77809218 163.9708074  166.44034851 174.07139666 181.69189753\n",
            " 154.32405639 162.84276048 190.95094768 166.71210842 185.3144366\n",
            " 168.9669161  162.42654857 174.28361901 172.81022164 180.87914474\n",
            " 147.58639733 168.27796974 164.53988241 169.84674555 158.89727118\n",
            " 174.83442267 170.22818778 169.95634218 179.33368394 165.87976268\n",
            " 177.20658941 174.98574319 170.50136659 171.41111885 197.39671667\n",
            " 173.26026812 151.94197601 152.86688171 153.19502434 158.28311975\n",
            " 172.06877828 159.13718405 179.45551423 172.80719194 170.55510105\n",
            " 171.73419728 178.9183902  170.65322221 164.0144394  188.60795679\n",
            " 168.81541218 156.97324235 152.7299316  158.57238169 181.12046158\n",
            " 173.86592083 162.66334935 181.07870309 176.6505376  170.71132655\n",
            " 170.79595949 183.25070103 179.30370103 155.94664347 171.50716596\n",
            " 172.68143755 172.18107771 181.40931174 189.08398139 162.44407428\n",
            " 159.10668718 177.27626626 170.38633269 182.28875558 178.16701374\n",
            " 172.41493846 158.61598958 180.78351658 154.66623492 163.2723964\n",
            " 172.91384711 178.26606261 183.35644725 172.77456784 169.33222848\n",
            " 155.70383481 169.88613619 186.12801549 176.06318038 164.70802889\n",
            " 173.62308862 179.07085752 179.06436298 158.74620529 160.21221342\n",
            " 183.33670192 167.13790546 164.09178752 176.86062266 164.11872624\n",
            " 164.30653051 168.78073865 165.42103957 180.35768862 142.52192746]\n"
          ]
        }
      ]
    },
    {
      "cell_type": "code",
      "source": [
        "# The hist() function will read the array and produce a histogram:\n",
        "\n",
        "# Example\n",
        "# A simple histogram:\n",
        "\n",
        "import matplotlib.pyplot as plt\n",
        "import numpy as np\n",
        "\n",
        "x = np.random.normal(170, 10, 250)\n",
        "\n",
        "plt.hist(x)\n",
        "plt.show() "
      ],
      "metadata": {
        "colab": {
          "base_uri": "https://localhost:8080/",
          "height": 265
        },
        "id": "lyaWpnLpCacg",
        "outputId": "faa7718f-3b60-46b7-fe72-2d66f2083007"
      },
      "execution_count": 20,
      "outputs": [
        {
          "output_type": "display_data",
          "data": {
            "image/png": "[encoded data removed]",
            "text/plain": [
              "<Figure size 432x288 with 1 Axes>"
            ]
          },
          "metadata": {
            "needs_background": "light"
          }
        }
      ]
    },
    {
      "cell_type": "markdown",
      "source": [
        "#Matplotlib Pie Charts\n"
      ],
      "metadata": {
        "id": "ZWwGdTRnCohg"
      }
    },
    {
      "cell_type": "code",
      "source": [
        "# Creating Pie Charts\n",
        "# With Pyplot, you can use the pie() function to draw pie charts:\n",
        "\n",
        "# Example\n",
        "# A simple pie chart:\n",
        "\n",
        "import matplotlib.pyplot as plt\n",
        "import numpy as np\n",
        "\n",
        "y = np.array([35, 25, 25, 15])\n",
        "\n",
        "plt.pie(y)\n",
        "plt.show()"
      ],
      "metadata": {
        "colab": {
          "base_uri": "https://localhost:8080/",
          "height": 248
        },
        "id": "69AuHKVkCpqw",
        "outputId": "bcff9fa2-d9c2-4d33-f8c7-2cf1377c1fc9"
      },
      "execution_count": 52,
      "outputs": [
        {
          "output_type": "display_data",
          "data": {
            "image/png": "[encoded data removed]",
            "text/plain": [
              "<Figure size 432x288 with 1 Axes>"
            ]
          },
          "metadata": {}
        }
      ]
    },
    {
      "cell_type": "code",
      "source": [
        "# Labels\n",
        "# Add labels to the pie chart with the label parameter.\n",
        "\n",
        "# The label parameter must be an array with one label for each wedge:\n",
        "\n",
        "# Example\n",
        "# A simple pie chart:\n",
        "\n",
        "import matplotlib.pyplot as plt\n",
        "import numpy as np\n",
        "\n",
        "y = np.array([35, 25, 25, 15])\n",
        "mylabels = [\"Apples\", \"Bananas\", \"Cherries\", \"Dates\"]\n",
        "\n",
        "plt.pie(y, labels = mylabels)\n",
        "plt.show() "
      ],
      "metadata": {
        "colab": {
          "base_uri": "https://localhost:8080/",
          "height": 248
        },
        "id": "RNpvpU1PDjP5",
        "outputId": "d95e3cc8-d5a5-4e48-efbb-1640592e2682"
      },
      "execution_count": 53,
      "outputs": [
        {
          "output_type": "display_data",
          "data": {
            "image/png": "[encoded data removed]",
            "text/plain": [
              "<Figure size 432x288 with 1 Axes>"
            ]
          },
          "metadata": {}
        }
      ]
    },
    {
      "cell_type": "code",
      "source": [
        "# Colors\n",
        "# You can set the color of each wedge with the colors parameter.\n",
        "\n",
        "# The colors parameter, if specified, must be an array with one value for each wedge:\n",
        "\n",
        "# Example\n",
        "# Specify a new color for each wedge:\n",
        "\n",
        "import matplotlib.pyplot as plt\n",
        "import numpy as np\n",
        "\n",
        "y = np.array([35, 25, 25, 15])\n",
        "mylabels = [\"Apples\", \"Bananas\", \"Cherries\", \"Dates\"]\n",
        "mycolors = [\"black\", \"pink\", \"blue\", \"red\"]\n",
        "\n",
        "plt.pie(y, labels = mylabels, colors = mycolors)\n",
        "plt.show() "
      ],
      "metadata": {
        "colab": {
          "base_uri": "https://localhost:8080/",
          "height": 248
        },
        "id": "5URqdXDADlU7",
        "outputId": "5955be29-6235-4708-fb90-d8dbc6e048f5"
      },
      "execution_count": 55,
      "outputs": [
        {
          "output_type": "display_data",
          "data": {
            "image/png": "[encoded data removed]",
            "text/plain": [
              "<Figure size 432x288 with 1 Axes>"
            ]
          },
          "metadata": {}
        }
      ]
    }
  ]
}