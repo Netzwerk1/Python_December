{
  "nbformat": 4,
  "nbformat_minor": 0,
  "metadata": {
    "colab": {
      "name": "Classes.ipynb",
      "provenance": []
    },
    "kernelspec": {
      "name": "python3",
      "display_name": "Python 3"
    },
    "language_info": {
      "name": "python"
    }
  },
  "cells": [
    {
      "cell_type": "markdown",
      "source": [
        "#Python Classes and Objects"
      ],
      "metadata": {
        "id": "iOxK83gC6-bV"
      }
    },
    {
      "cell_type": "markdown",
      "source": [
        "#Python Classes/Objects\n",
        "\n",
        "\n",
        "Almost everything in Python is an object, with its properties and methods.\n",
        "\n",
        "A Class is like an object constructor, or a \"blueprint\" for creating objects."
      ],
      "metadata": {
        "id": "YUgFnuQW7G1H"
      }
    },
    {
      "cell_type": "markdown",
      "source": [
        "#Create a Class\n",
        "To create a class, use the keyword class:\n",
        "\n",
        "Example\n",
        "Create a class named MyClass, with a property named x:\n"
      ],
      "metadata": {
        "id": "PBCsonlJ7UOY"
      }
    },
    {
      "cell_type": "code",
      "source": [
        "\n",
        "class MyClass:\n",
        "  x = 5"
      ],
      "metadata": {
        "id": "oF4Md8C2JYZW"
      },
      "execution_count": 9,
      "outputs": []
    },
    {
      "cell_type": "markdown",
      "source": [
        "#Create Object\n",
        "#Now we can use the class named MyClass to create objects:\n",
        "\n",
        "#Example\n",
        "#Create an object named p1, and print the value of x:\n"
      ],
      "metadata": {
        "id": "9G1W1oht7e3s"
      }
    },
    {
      "cell_type": "code",
      "source": [
        "\n",
        "p1 = MyClass()\n",
        "print(p1.x)"
      ],
      "metadata": {
        "colab": {
          "base_uri": "https://localhost:8080/"
        },
        "id": "yS36A3jUA1r1",
        "outputId": "de1ab454-ac5b-4d87-b328-16bf988a9d09"
      },
      "execution_count": 10,
      "outputs": [
        {
          "output_type": "stream",
          "name": "stdout",
          "text": [
            "5\n"
          ]
        }
      ]
    },
    {
      "cell_type": "markdown",
      "source": [
        "#The __init__() Function\n",
        "The examples above are classes and objects in their simplest form, and are not really useful in real life applications.\n",
        "\n",
        "To understand the meaning of classes we have to understand the built-in __init__() function.\n",
        "\n",
        "All classes have a function called __init__(), which is always executed when the class is being initiated.\n",
        "\n",
        "Use the __init__() function to assign values to object properties, or other operations that are necessary to do when the object is being created:\n",
        "\n",
        "Example\n",
        "Create a class named Person, use the __init__() function to assign values for name and age:"
      ],
      "metadata": {
        "id": "JtuZZTDsA3WZ"
      }
    },
    {
      "cell_type": "code",
      "source": [
        "class Person:\n",
        "  def __init__(self, name, age):\n",
        "    self.name = name\n",
        "    self.age = age\n",
        "\n",
        "p1 = Person(\"John\", 36)\n",
        "p2 = Person('Riya', 25)\n",
        "\n",
        "print(p1.name)\n",
        "print(p2.age)\n",
        "print(p2.name)\n",
        "#Note: The __init__() function is called automatically every time the class is being used to create a new object."
      ],
      "metadata": {
        "colab": {
          "base_uri": "https://localhost:8080/"
        },
        "id": "3CPwXWOkA-UX",
        "outputId": "afa9a7c5-4222-41c4-b989-263654b031e3"
      },
      "execution_count": 12,
      "outputs": [
        {
          "output_type": "stream",
          "name": "stdout",
          "text": [
            "John\n",
            "25\n",
            "Riya\n"
          ]
        }
      ]
    },
    {
      "cell_type": "markdown",
      "source": [
        "#Object Methods\n",
        "Objects can also contain methods. Methods in objects are functions that belong to the object.\n",
        "\n",
        "Let us create a method in the Person class:"
      ],
      "metadata": {
        "id": "oD828gUCBSH3"
      }
    },
    {
      "cell_type": "code",
      "source": [
        "#Example\n",
        "#Insert a function that prints a greeting, and execute it on the p1 object:\n",
        "\n",
        "class Person:\n",
        "  def __init__(self, name, age):\n",
        "    self.name = name\n",
        "    self.age = age\n",
        "\n",
        "  def myfunc(self):\n",
        "    print(\"Hello my name is \" + self.name)\n",
        "\n",
        "p1 = Person(\"John\", 36)\n",
        "p1.myfunc()"
      ],
      "metadata": {
        "colab": {
          "base_uri": "https://localhost:8080/"
        },
        "id": "UZ9avuIdBUCU",
        "outputId": "c8b88bb9-cb56-4a39-effd-104c598145c2"
      },
      "execution_count": 13,
      "outputs": [
        {
          "output_type": "stream",
          "name": "stdout",
          "text": [
            "Hello my name is John\n"
          ]
        }
      ]
    },
    {
      "cell_type": "markdown",
      "source": [
        "Note: The self parameter is a reference to the current instance of the class, and is used to access variables that belong to the class.\n",
        "\n",
        "The self Parameter\n",
        "The self parameter is a reference to the current instance of the class, and is used to access variables that belongs to the class.\n",
        "\n",
        "It does not have to be named self , you can call it whatever you like, but it has to be the first parameter of any function in the class:"
      ],
      "metadata": {
        "id": "m1AyrVtgBgOs"
      }
    }
  ]
}