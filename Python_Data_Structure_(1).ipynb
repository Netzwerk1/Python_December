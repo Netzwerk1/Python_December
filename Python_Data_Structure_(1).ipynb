{
  "nbformat": 4,
  "nbformat_minor": 0,
  "metadata": {
    "colab": {
      "name": "Python_Data_Structure (1).ipynb",
      "provenance": []
    },
    "kernelspec": {
      "name": "python3",
      "display_name": "Python 3"
    },
    "language_info": {
      "name": "python"
    }
  },
  "cells": [
    {
      "cell_type": "code",
      "execution_count": null,
      "metadata": {
        "id": "P-NleHbTHiqA"
      },
      "outputs": [],
      "source": [
        ""
      ]
    },
    {
      "cell_type": "markdown",
      "source": [
        "#Python Lists\n",
        "mylist = [\"apple\", \"banana\", \"cherry\"]\n",
        "List\n",
        "Lists are used to store multiple items in a single variable.\n",
        "\n",
        "Lists are one of 4 built-in data types in Python used to store collections of data, the other 3 are Tuple, Set, and Dictionary, all with different qualities and usage.\n",
        "\n",
        "Lists are created using square brackets:"
      ],
      "metadata": {
        "id": "FJYKF3sXHuFA"
      }
    },
    {
      "cell_type": "code",
      "source": [
        "# Example\n",
        "# Create a List:\n",
        "\n",
        "thislist = [\"apple\", \"banana\", \"cherry\"]\n",
        "print(thislist)"
      ],
      "metadata": {
        "id": "hVLF06-IH6HI",
        "colab": {
          "base_uri": "https://localhost:8080/"
        },
        "outputId": "96ba3e3f-0d63-4cb6-ac8b-9cd231cb3431"
      },
      "execution_count": 1,
      "outputs": [
        {
          "output_type": "stream",
          "name": "stdout",
          "text": [
            "['apple', 'banana', 'cherry']\n"
          ]
        }
      ]
    },
    {
      "cell_type": "markdown",
      "source": [
        "List Items\n",
        "List items are ordered, changeable, and allow duplicate values.\n",
        "\n",
        "List items are indexed, the first item has index [0], the second item has index [1] etc.\n",
        "\n",
        "Ordered\n",
        "When we say that lists are ordered, it means that the items have a defined order, and that order will not change.\n",
        "\n",
        "If you add new items to a list, the new items will be placed at the end of the list.\n",
        "\n",
        "Allow Duplicates\n",
        "Since lists are indexed, lists can have items with the same value:"
      ],
      "metadata": {
        "id": "2ggIBgJyIB9y"
      }
    },
    {
      "cell_type": "code",
      "source": [
        "# Example\n",
        "# Lists allow duplicate values:\n",
        "\n",
        "thislist = [\"apple\", \"banana\", \"cherry\", \"apple\", \"cherry\"]\n",
        "print(thislist)"
      ],
      "metadata": {
        "id": "am_j62gmIUic",
        "colab": {
          "base_uri": "https://localhost:8080/"
        },
        "outputId": "a30eb608-efb3-48a2-91f3-695dab46440d"
      },
      "execution_count": 2,
      "outputs": [
        {
          "output_type": "stream",
          "name": "stdout",
          "text": [
            "['apple', 'banana', 'cherry', 'apple', 'cherry']\n"
          ]
        }
      ]
    },
    {
      "cell_type": "markdown",
      "source": [
        "List Length\n",
        "To determine how many items a list has, use the len() function:"
      ],
      "metadata": {
        "id": "ntzPqp6hIbL8"
      }
    },
    {
      "cell_type": "code",
      "source": [
        "# Example\n",
        "# Print the number of items in the list:\n",
        "\n",
        "thislist = [\"apple\", \"banana\", \"cherry\"]\n",
        "print(len(thislist))"
      ],
      "metadata": {
        "id": "Lg5ww9VNIcNZ",
        "colab": {
          "base_uri": "https://localhost:8080/"
        },
        "outputId": "31289ca5-33f4-431c-b70d-03bc8747f246"
      },
      "execution_count": 3,
      "outputs": [
        {
          "output_type": "stream",
          "name": "stdout",
          "text": [
            "3\n"
          ]
        }
      ]
    },
    {
      "cell_type": "markdown",
      "source": [
        "List Items - Data Types\n",
        "List items can be of any data type:\n",
        "\n",
        "Example\n",
        "String, int and boolean data types:"
      ],
      "metadata": {
        "id": "KZKe296SInC3"
      }
    },
    {
      "cell_type": "code",
      "source": [
        "list1 = [\"apple\", \"banana\", \"cherry\"]\n",
        "list2 = [1, 5, 7, 9, 3]\n",
        "list3 = [True, False, False]"
      ],
      "metadata": {
        "id": "jsWUvkUDIoP-"
      },
      "execution_count": null,
      "outputs": []
    },
    {
      "cell_type": "markdown",
      "source": [
        "A list can contain different data types:\n",
        "\n",
        "Example\n",
        "A list with strings, integers and boolean values:\n",
        "\n",
        "list1 = [\"abc\", 34, True, 40, \"male\"]\n",
        "\n"
      ],
      "metadata": {
        "id": "toaNZC5xIw7w"
      }
    },
    {
      "cell_type": "code",
      "source": [
        "#Example\n",
        "#A list with strings, integers and boolean values:\n",
        "\n",
        "list1 = [\"abc\", 34, True, 40, \"male\"]"
      ],
      "metadata": {
        "id": "lPW_O--OSthN"
      },
      "execution_count": 5,
      "outputs": []
    },
    {
      "cell_type": "markdown",
      "source": [
        "type()\n",
        "From Python's perspective, lists are defined as objects with the data type 'list':\n",
        "\n",
        "<class 'list'>"
      ],
      "metadata": {
        "id": "TE0LRRgLS06x"
      }
    },
    {
      "cell_type": "code",
      "source": [
        "# Example\n",
        "# What is the data type of a list?\n",
        "\n",
        "mylist = [\"apple\", \"banana\", \"cherry\"]\n",
        "print(type(mylist))"
      ],
      "metadata": {
        "id": "edI9jO26S2Ob",
        "colab": {
          "base_uri": "https://localhost:8080/"
        },
        "outputId": "b88fd5d9-9ddc-4155-949b-755fb937bdee"
      },
      "execution_count": 7,
      "outputs": [
        {
          "output_type": "stream",
          "name": "stdout",
          "text": [
            "<class 'list'>\n"
          ]
        }
      ]
    },
    {
      "cell_type": "markdown",
      "source": [
        "The list() Constructor\n",
        "It is also possible to use the list() constructor when creating a new list.\n",
        "\n",
        "Example\n",
        "Using the list() constructor to make a List:\n"
      ],
      "metadata": {
        "id": "AO0VUwoyTGPB"
      }
    },
    {
      "cell_type": "code",
      "source": [
        "thislist = list((\"apple\", \"banana\", \"cherry\")) # note the double round-brackets\n",
        "print(thislist)"
      ],
      "metadata": {
        "id": "m9lEVHG0TN4K",
        "colab": {
          "base_uri": "https://localhost:8080/"
        },
        "outputId": "eb3f6318-1ba8-44d0-acc8-2ce36d0686f4"
      },
      "execution_count": 8,
      "outputs": [
        {
          "output_type": "stream",
          "name": "stdout",
          "text": [
            "['apple', 'banana', 'cherry']\n"
          ]
        }
      ]
    },
    {
      "cell_type": "markdown",
      "source": [
        "**Python Collections (Arrays)**\n",
        "There are four collection data types in the Python programming language:\n",
        "\n",
        "List is a collection which is ordered and changeable. Allows duplicate members.\n",
        "Tuple is a collection which is ordered and unchangeable. Allows duplicate members.\n",
        "Set is a collection which is unordered, unchangeable*, and unindexed. No duplicate members.\n",
        "Dictionary is a collection which is ordered** and changeable. No duplicate members."
      ],
      "metadata": {
        "id": "vhUa-rrETYN7"
      }
    },
    {
      "cell_type": "markdown",
      "source": [
        "#Python Tuples\n",
        "Tuple\n",
        "Tuples are used to store multiple items in a single variable.\n",
        "\n",
        "Tuple is one of 4 built-in data types in Python used to store collections of data, the other 3 are List, Set, and Dictionary, all with different qualities and usage.\n",
        "\n",
        "A tuple is a collection which is ordered and unchangeable.\n",
        "\n",
        "Tuples are written with round brackets."
      ],
      "metadata": {
        "id": "iqIwYADYTsV6"
      }
    },
    {
      "cell_type": "code",
      "source": [
        "mytuple = (\"apple\", \"banana\", \"cherry\")\n"
      ],
      "metadata": {
        "id": "hHW6AcbNT69t"
      },
      "execution_count": 9,
      "outputs": []
    },
    {
      "cell_type": "code",
      "source": [
        "# Example\n",
        "# Create a Tuple:\n",
        "\n",
        "thistuple = (\"apple\", \"banana\", \"cherry\")\n",
        "print(thistuple)"
      ],
      "metadata": {
        "id": "QaZemCQUT-_8",
        "colab": {
          "base_uri": "https://localhost:8080/"
        },
        "outputId": "0998172f-0c9d-4bec-b635-b490277ac486"
      },
      "execution_count": 10,
      "outputs": [
        {
          "output_type": "stream",
          "name": "stdout",
          "text": [
            "('apple', 'banana', 'cherry')\n"
          ]
        }
      ]
    },
    {
      "cell_type": "markdown",
      "source": [
        "**Tuple Items**\n",
        "Tuple items are ordered, unchangeable, and allow duplicate values.\n",
        "\n",
        "Tuple items are indexed, the first item has index [0], the second item has index [1] etc.\n",
        "\n",
        "**Ordered**\n",
        "When we say that tuples are ordered, it means that the items have a defined order, and that order will not change.\n",
        "\n",
        "**Unchangeable**\n",
        "Tuples are unchangeable, meaning that we cannot change, add or remove items after the tuple has been created.\n",
        "\n",
        "**Allow Duplicates**\n",
        "Since tuples are indexed, they can have items with the same value:\n",
        "\n"
      ],
      "metadata": {
        "id": "BI1fpV_bUIz0"
      }
    },
    {
      "cell_type": "code",
      "source": [
        "# Example\n",
        "# Tuples allow duplicate values:\n",
        "\n",
        "thistuple = (\"apple\", \"banana\", \"cherry\", \"apple\", \"cherry\")\n",
        "print(thistuple)"
      ],
      "metadata": {
        "id": "V-Y_gMxCUZnE",
        "colab": {
          "base_uri": "https://localhost:8080/"
        },
        "outputId": "bbd9985d-9248-47e0-f777-5418cbb380a3"
      },
      "execution_count": 11,
      "outputs": [
        {
          "output_type": "stream",
          "name": "stdout",
          "text": [
            "('apple', 'banana', 'cherry', 'apple', 'cherry')\n"
          ]
        }
      ]
    },
    {
      "cell_type": "markdown",
      "source": [
        "**Tuple Length**\n",
        "To determine how many items a tuple has, use the len() function:"
      ],
      "metadata": {
        "id": "4o3XJHiqUimt"
      }
    },
    {
      "cell_type": "code",
      "source": [
        "# Example\n",
        "# Print the number of items in the tuple:\n",
        "\n",
        "thistuple = (\"apple\", \"banana\", \"cherry\")\n",
        "print(len(thistuple))"
      ],
      "metadata": {
        "id": "j0IMECGOUlef",
        "colab": {
          "base_uri": "https://localhost:8080/"
        },
        "outputId": "5b54550f-a2bd-429e-bdfb-64e9dd4db2a8"
      },
      "execution_count": 12,
      "outputs": [
        {
          "output_type": "stream",
          "name": "stdout",
          "text": [
            "3\n"
          ]
        }
      ]
    },
    {
      "cell_type": "markdown",
      "source": [
        "**Create Tuple With One Item**\n",
        "To create a tuple with only one item, you have to add a comma after the item, otherwise Python will not recognize it as a tuple."
      ],
      "metadata": {
        "id": "NaHQPBYmUz4_"
      }
    },
    {
      "cell_type": "code",
      "source": [
        "# Example\n",
        "# One item tuple, remember the comma:\n",
        "\n",
        "thistuple = (\"apple\",)\n",
        "print(type(thistuple))\n",
        "\n",
        "#NOT a tuple\n",
        "thistuple = (\"apple\")\n",
        "print(type(thistuple))"
      ],
      "metadata": {
        "id": "9zNj5o97U2mx",
        "colab": {
          "base_uri": "https://localhost:8080/"
        },
        "outputId": "59d78a2e-0cd0-4366-91e3-6ddd176c121e"
      },
      "execution_count": 14,
      "outputs": [
        {
          "output_type": "stream",
          "name": "stdout",
          "text": [
            "<class 'tuple'>\n",
            "<class 'str'>\n"
          ]
        }
      ]
    },
    {
      "cell_type": "markdown",
      "source": [
        "**Tuple Items **- Data Types\n",
        "Tuple items can be of any data type:"
      ],
      "metadata": {
        "id": "l-xEKZKaVAda"
      }
    },
    {
      "cell_type": "code",
      "source": [
        "# Example\n",
        "# String, int and boolean data types:\n",
        "\n",
        "tuple1 = (\"apple\", \"banana\", \"cherry\")\n",
        "tuple2 = (1, 5, 7, 9, 3)\n",
        "tuple3 = (True, False, False)"
      ],
      "metadata": {
        "id": "QYRo45DrVCtL"
      },
      "execution_count": 15,
      "outputs": []
    },
    {
      "cell_type": "markdown",
      "source": [
        "#A tuple can contain different data types:\n",
        "\n",
        "Example\n",
        "A tuple with strings, integers and boolean values:"
      ],
      "metadata": {
        "id": "p0WbwaodVJ5t"
      }
    },
    {
      "cell_type": "code",
      "source": [
        "tuple1 = (\"abc\", 34, True, 40, \"male\")"
      ],
      "metadata": {
        "id": "0iCcCUeAVPbj"
      },
      "execution_count": 16,
      "outputs": []
    },
    {
      "cell_type": "markdown",
      "source": [
        "**type()**\n",
        "From Python's perspective, tuples are defined as objects with the data type 'tuple':\n",
        "\n",
        "<class 'tuple'>"
      ],
      "metadata": {
        "id": "oNsqWJV5VV0I"
      }
    },
    {
      "cell_type": "code",
      "source": [
        "# Example\n",
        "# What is the data type of a tuple?\n",
        "\n",
        "mytuple = (\"apple\", \"banana\", \"cherry\")\n",
        "print(type(mytuple))"
      ],
      "metadata": {
        "id": "r25sEBG0VYzt",
        "colab": {
          "base_uri": "https://localhost:8080/"
        },
        "outputId": "53eaa961-110c-4417-fd84-3eee9fd48a75"
      },
      "execution_count": 17,
      "outputs": [
        {
          "output_type": "stream",
          "name": "stdout",
          "text": [
            "<class 'tuple'>\n"
          ]
        }
      ]
    },
    {
      "cell_type": "markdown",
      "source": [
        "**The tuple() Constructor**\n",
        "It is also possible to use the tuple() constructor to make a tuple."
      ],
      "metadata": {
        "id": "FDFa4SRPVldU"
      }
    },
    {
      "cell_type": "code",
      "source": [
        "# Example\n",
        "# Using the tuple() method to make a tuple:\n",
        "\n",
        "thistuple = tuple((\"apple\", \"banana\", \"cherry\")) # note the double round-brackets\n",
        "print(thistuple)"
      ],
      "metadata": {
        "id": "xGL_M3ZxVoNu",
        "colab": {
          "base_uri": "https://localhost:8080/"
        },
        "outputId": "c513572e-822e-43c5-c133-50baf4055c8f"
      },
      "execution_count": 19,
      "outputs": [
        {
          "output_type": "stream",
          "name": "stdout",
          "text": [
            "('apple', 'banana', 'cherry')\n"
          ]
        }
      ]
    },
    {
      "cell_type": "markdown",
      "source": [
        "#Python Sets\n",
        "Set\n",
        "Sets are used to store multiple items in a single variable.\n",
        "\n",
        "Set is one of 4 built-in data types in Python used to store collections of data, the other 3 are List, Tuple, and Dictionary, all with different qualities and usage.\n",
        "\n",
        "A set is a collection which is unordered, unchangeable*, and unindexed.\n",
        "\n",
        "* Note: Set items are unchangeable, but you can remove items and add new items.\n",
        "\n",
        "Sets are written with curly brackets.\n"
      ],
      "metadata": {
        "id": "UpPZG4jFV0fH"
      }
    },
    {
      "cell_type": "code",
      "source": [
        "myset = {\"apple\", \"banana\", \"cherry\"}"
      ],
      "metadata": {
        "id": "-TlWU5zVV-hE"
      },
      "execution_count": null,
      "outputs": []
    },
    {
      "cell_type": "code",
      "source": [
        "# Example\n",
        "# Create a Set:\n",
        "\n",
        "thisset = {\"apple\", \"banana\", \"cherry\"}\n",
        "print(thisset)"
      ],
      "metadata": {
        "id": "Fy0f1gWiWDrq",
        "colab": {
          "base_uri": "https://localhost:8080/"
        },
        "outputId": "38d3d1cb-e353-4945-901a-b8c9f6dc4b22"
      },
      "execution_count": 4,
      "outputs": [
        {
          "output_type": "stream",
          "name": "stdout",
          "text": [
            "{'apple', 'banana', 'cherry'}\n"
          ]
        }
      ]
    },
    {
      "cell_type": "markdown",
      "source": [
        "Note: Sets are unordered, so you cannot be sure in which order the items will appear.\n",
        "\n",
        "Set Items\n",
        "Set items are unordered, unchangeable, and do not allow duplicate values.\n",
        "\n",
        "Unordered\n",
        "Unordered means that the items in a set do not have a defined order.\n",
        "\n",
        "Set items can appear in a different order every time you use them, and cannot be referred to by index or key.\n",
        "\n",
        "Unchangeable\n",
        "Set items are unchangeable, meaning that we cannot change the items after the set has been created.\n",
        "\n",
        "Once a set is created, you cannot change its items, but you can remove items and add new items.\n",
        "\n",
        "Duplicates Not Allowed\n",
        "Sets cannot have two items with the same value."
      ],
      "metadata": {
        "id": "f63EkIT7WUxP"
      }
    },
    {
      "cell_type": "code",
      "source": [
        "# Example\n",
        "# Duplicate values will be ignored:\n",
        "\n",
        "thisset = {\"apple\", \"banana\", \"cherry\", \"apple\"}\n",
        "\n",
        "print(thisset)"
      ],
      "metadata": {
        "id": "esBZHfEUWVm_",
        "colab": {
          "base_uri": "https://localhost:8080/"
        },
        "outputId": "5d875ed1-173e-4206-9f81-84188c3a3816"
      },
      "execution_count": 11,
      "outputs": [
        {
          "output_type": "stream",
          "name": "stdout",
          "text": [
            "{'apple', 'banana', 'cherry'}\n"
          ]
        }
      ]
    },
    {
      "cell_type": "markdown",
      "source": [
        "**Get the Length of a Set**\n",
        "To determine how many items a set has, use the len() method."
      ],
      "metadata": {
        "id": "K90aMqAtWcoF"
      }
    },
    {
      "cell_type": "code",
      "source": [
        "# Example\n",
        "# Get the number of items in a set:\n",
        "\n",
        "thisset = {\"apple\", \"banana\", \"cherry\"}\n",
        "\n",
        "print(len(thisset))"
      ],
      "metadata": {
        "id": "77usE0bQWfDj",
        "colab": {
          "base_uri": "https://localhost:8080/"
        },
        "outputId": "d48aba02-3049-46ea-d148-0056834f0488"
      },
      "execution_count": 12,
      "outputs": [
        {
          "output_type": "stream",
          "name": "stdout",
          "text": [
            "3\n"
          ]
        }
      ]
    },
    {
      "cell_type": "markdown",
      "source": [
        "#Set Items - Data Types\n",
        "Set items can be of any data type:"
      ],
      "metadata": {
        "id": "qH_hZCGQWov5"
      }
    },
    {
      "cell_type": "code",
      "source": [
        "# Example\n",
        "# String, int and boolean data types:\n",
        "\n",
        "set1 = {\"apple\", \"banana\", \"cherry\"}\n",
        "set2 = {1, 5, 7, 9, 3}\n",
        "set3 = {True, False, False}"
      ],
      "metadata": {
        "id": "gmJgVk7vWqSA"
      },
      "execution_count": null,
      "outputs": []
    },
    {
      "cell_type": "markdown",
      "source": [
        "**A set can contain different data types:**"
      ],
      "metadata": {
        "id": "iJu15lHUWzLA"
      }
    },
    {
      "cell_type": "code",
      "source": [
        "# Example\n",
        "# A set with strings, integers and boolean values:\n",
        "set1 = {\"abc\", 34, True, 40, \"male\"}"
      ],
      "metadata": {
        "id": "KpuLvurzW1g6"
      },
      "execution_count": 7,
      "outputs": []
    },
    {
      "cell_type": "markdown",
      "source": [
        "**type()**\n",
        "From Python's perspective, sets are defined as objects with the data type 'set':\n",
        "\n",
        "<class 'set'>"
      ],
      "metadata": {
        "id": "-ugi9k4mW-y2"
      }
    },
    {
      "cell_type": "code",
      "source": [
        "# Example\n",
        "# What is the data type of a set?\n",
        "\n",
        "myset = {\"apple\", \"banana\", \"cherry\"}\n",
        "print(type(myset))"
      ],
      "metadata": {
        "id": "yFgbklOWXBCj",
        "colab": {
          "base_uri": "https://localhost:8080/"
        },
        "outputId": "e28f58a1-e5f8-4388-cf6a-a99be5f1be2b"
      },
      "execution_count": 13,
      "outputs": [
        {
          "output_type": "stream",
          "name": "stdout",
          "text": [
            "<class 'set'>\n"
          ]
        }
      ]
    },
    {
      "cell_type": "markdown",
      "source": [
        "**The set() Constructor**\n",
        "It is also possible to use the set() constructor to make a set."
      ],
      "metadata": {
        "id": "v2E0N8QcXJmb"
      }
    },
    {
      "cell_type": "code",
      "source": [
        "# Example\n",
        "# Using the set() constructor to make a set:\n",
        "\n",
        "thisset = set((\"apple\", \"banana\", \"cherry\")) # note the double round-brackets\n",
        "print(thisset)"
      ],
      "metadata": {
        "id": "SDfx5HBQXL4L",
        "colab": {
          "base_uri": "https://localhost:8080/"
        },
        "outputId": "2015c434-b70c-4b96-8d3e-41696a848aef"
      },
      "execution_count": 14,
      "outputs": [
        {
          "output_type": "stream",
          "name": "stdout",
          "text": [
            "{'apple', 'banana', 'cherry'}\n"
          ]
        }
      ]
    },
    {
      "cell_type": "markdown",
      "source": [
        "#Python Dictionaries"
      ],
      "metadata": {
        "id": "4K5Kha53Xr2Y"
      }
    },
    {
      "cell_type": "markdown",
      "source": [
        "**Dictionary**\n",
        "Dictionaries are used to store data values in key:value pairs.\n",
        "\n",
        "A dictionary is a collection which is ordered*, changeable and do not allow duplicates.\n",
        "Dictionaries are written with curly brackets, and have keys and values:\n",
        "\n",
        "**Dictionary Items**\n",
        "Dictionary items are ordered, changeable, and does not allow duplicates.\n",
        "\n",
        "Dictionary items are presented in key:value pairs, and can be referred to by using the key name."
      ],
      "metadata": {
        "id": "m8hD0TFlX02V"
      }
    },
    {
      "cell_type": "code",
      "source": [
        "thisdict = {\n",
        "  \"brand\": \"Ford\",\n",
        "  \"model\": \"Mustang\",\n",
        "  \"year\": 1964\n",
        "}"
      ],
      "metadata": {
        "id": "KH8-4IlUYDFu"
      },
      "execution_count": null,
      "outputs": []
    },
    {
      "cell_type": "code",
      "source": [
        "#Create and print a dictionary:\n",
        "\n",
        "thisdict = {\n",
        "  \"brand\": \"Ford\",\n",
        "  \"model\": \"Mustang\",\n",
        "  \"year\": 1964,\n",
        "}\n",
        "print(thisdict)"
      ],
      "metadata": {
        "id": "rKOIpsdQYHml",
        "colab": {
          "base_uri": "https://localhost:8080/"
        },
        "outputId": "f60407c2-9217-4d9e-df4d-0948ae1e3c9e"
      },
      "execution_count": 17,
      "outputs": [
        {
          "output_type": "stream",
          "name": "stdout",
          "text": [
            "{'brand': 'Ford', 'model': 'Mustang', 'year': 1964}\n"
          ]
        }
      ]
    },
    {
      "cell_type": "code",
      "source": [
        "#Print the \"brand\" value of the dictionary:\n",
        "\n",
        "thisdict = {\n",
        "  \"brand\": \"Ford\",\n",
        "  \"model\": \"Mustang\",\n",
        "  \"year\": 1964\n",
        "}\n",
        "print(thisdict[\"year\"])"
      ],
      "metadata": {
        "id": "9TYZTIQHYLvr",
        "colab": {
          "base_uri": "https://localhost:8080/"
        },
        "outputId": "488fef62-b035-490e-d195-4f348cac4ff0"
      },
      "execution_count": 19,
      "outputs": [
        {
          "output_type": "stream",
          "name": "stdout",
          "text": [
            "1964\n"
          ]
        }
      ]
    },
    {
      "cell_type": "markdown",
      "source": [
        "#Summary\n",
        "![image.png]()"
      ],
      "metadata": {
        "id": "Sz3Ly2qCqU0H"
      }
    }
  ]
}