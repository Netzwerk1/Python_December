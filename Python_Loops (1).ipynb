{
  "nbformat": 4,
  "nbformat_minor": 0,
  "metadata": {
    "colab": {
      "name": "Python_Loops.ipynb",
      "provenance": []
    },
    "kernelspec": {
      "name": "python3",
      "display_name": "Python 3"
    },
    "language_info": {
      "name": "python"
    }
  },
  "cells": [
    {
      "cell_type": "markdown",
      "source": [
        "#Python If ... Else\n",
        "\n",
        "Python Conditions and If statements......\n",
        "Python supports the usual logical conditions from mathematics:\n",
        "\n",
        "Equals: a == b\n",
        "Not Equals: a != b\n",
        "Less than: a < b\n",
        "Less than or equal to: a <= b\n",
        "Greater than: a > b\n",
        "Greater than or equal to: a >= b\n",
        "\n",
        "\n",
        "\n",
        "These conditions can be used in several ways, most commonly in \"if statements\" and loops.\n",
        "\n",
        "An \"if statement\" is written by using the if keyword."
      ],
      "metadata": {
        "id": "mfo-BoSNW0h0"
      }
    },
    {
      "cell_type": "code",
      "source": [
        "#If statements\n",
        "a = 200\n",
        "b = 100\n",
        "if b > a:\n",
        "  print(\"b is greater than a\")\n",
        "elif a == b: \n",
        "  print(\"a=b\") \n",
        "else:\n",
        "  print(\"a is greater than b\")  "
      ],
      "metadata": {
        "colab": {
          "base_uri": "https://localhost:8080/"
        },
        "id": "g_JdbZuiY4xG",
        "outputId": "0ea71851-932e-4951-d295-1fa44cd3d51e"
      },
      "execution_count": 7,
      "outputs": [
        {
          "output_type": "stream",
          "name": "stdout",
          "text": [
            "a is greater than b\n"
          ]
        }
      ]
    },
    {
      "cell_type": "markdown",
      "source": [
        "#Indentation\n",
        "Python relies on indentation (whitespace at the beginning of a line) to define scope in the code. Other programming languages often use curly-brackets for this purpose.\n",
        "\n",
        "Example\n",
        "If statement, without indentation (will raise an error):\n",
        "\n"
      ],
      "metadata": {
        "id": "V4qpKuulaRtL"
      }
    },
    {
      "cell_type": "code",
      "source": [
        "#Error\n",
        "a = 33\n",
        "b = 200\n",
        "if b > a:\n",
        "     print(\"b is greater than a\") # you will get an error\n"
      ],
      "metadata": {
        "colab": {
          "base_uri": "https://localhost:8080/"
        },
        "id": "rTxxWS-eaV1K",
        "outputId": "74d968ea-e844-4583-8560-f1b621049038"
      },
      "execution_count": 10,
      "outputs": [
        {
          "output_type": "stream",
          "name": "stdout",
          "text": [
            "b is greater than a\n"
          ]
        }
      ]
    },
    {
      "cell_type": "markdown",
      "source": [
        "#Elif\n",
        "The elif keyword is pythons way of saying \"if the previous conditions were not true, then try this condition\"."
      ],
      "metadata": {
        "id": "nxIp4VonahMb"
      }
    },
    {
      "cell_type": "code",
      "source": [
        "a = 33\n",
        "b = 33\n",
        "if b > a:\n",
        "  print(\"b is greater than a\")\n",
        "elif a == b:\n",
        "  print(\"a and b are equal\")"
      ],
      "metadata": {
        "colab": {
          "base_uri": "https://localhost:8080/"
        },
        "id": "EhCnBxbFajAO",
        "outputId": "6e23c3d4-85f8-4748-b8c4-f8096918d117"
      },
      "execution_count": 11,
      "outputs": [
        {
          "output_type": "stream",
          "name": "stdout",
          "text": [
            "a and b are equal\n"
          ]
        }
      ]
    },
    {
      "cell_type": "markdown",
      "source": [
        "#Else\n",
        "The else keyword catches anything which isn't caught by the preceding conditions."
      ],
      "metadata": {
        "id": "aQOhuQSwa1IG"
      }
    },
    {
      "cell_type": "code",
      "source": [
        "a = 200\n",
        "b = 33\n",
        "if b > a:\n",
        "  print(\"b is greater than a\")\n",
        "elif a == b:\n",
        "  print(\"a and b are equal\")\n",
        "else:\n",
        "  print(\"a is greater than b\")"
      ],
      "metadata": {
        "colab": {
          "base_uri": "https://localhost:8080/"
        },
        "id": "t6xkmxvKa3bP",
        "outputId": "f87dd1df-1a78-4e49-f2c1-31d587c2ae7c"
      },
      "execution_count": 12,
      "outputs": [
        {
          "output_type": "stream",
          "name": "stdout",
          "text": [
            "a is greater than b\n"
          ]
        }
      ]
    },
    {
      "cell_type": "code",
      "source": [
        "#You can also have an else without the elif:\n",
        "#Example\n",
        "a = 200\n",
        "b = 33\n",
        "if b > a:\n",
        "  print(\"b is greater than a\")\n",
        "else:\n",
        "  print(\"b is not greater than a\")"
      ],
      "metadata": {
        "colab": {
          "base_uri": "https://localhost:8080/"
        },
        "id": "o0m6nO79bGlJ",
        "outputId": "1af0e6de-c6df-4f2d-95bc-137b42cff65a"
      },
      "execution_count": 14,
      "outputs": [
        {
          "output_type": "stream",
          "name": "stdout",
          "text": [
            "b is not greater than a\n"
          ]
        }
      ]
    },
    {
      "cell_type": "markdown",
      "source": [
        "#And\n",
        "The and keyword is a logical operator, and is used to combine conditional statements:\n",
        "\n",
        "Example\n",
        "Test if a is greater than b, AND if c is greater than a:\n",
        "\n"
      ],
      "metadata": {
        "id": "fVOmH2-Tbjiu"
      }
    },
    {
      "cell_type": "code",
      "source": [
        "a = 200\n",
        "b = 33\n",
        "c = 500\n",
        "if a > b and c > a:\n",
        "  print(\"Both conditions are True\")"
      ],
      "metadata": {
        "colab": {
          "base_uri": "https://localhost:8080/"
        },
        "id": "VtNThYz_bnMP",
        "outputId": "ad36899c-34a4-4e1a-eed4-4c83e4076f8a"
      },
      "execution_count": 15,
      "outputs": [
        {
          "output_type": "stream",
          "name": "stdout",
          "text": [
            "Both conditions are True\n"
          ]
        }
      ]
    },
    {
      "cell_type": "markdown",
      "source": [
        "#Or\n",
        "The or keyword is a logical operator, and is used to combine conditional statements:\n",
        "\n",
        "Example\n",
        "Test if a is greater than b, OR if a is greater than c:"
      ],
      "metadata": {
        "id": "k_UqpR4nb0x-"
      }
    },
    {
      "cell_type": "code",
      "source": [
        "a = 200\n",
        "b = 33\n",
        "c = 500\n",
        "if a > b or a > c:\n",
        "  print(\"At least one of the conditions is True\")"
      ],
      "metadata": {
        "colab": {
          "base_uri": "https://localhost:8080/"
        },
        "id": "iNcoEBjXb-oG",
        "outputId": "83e47df4-e01b-465e-be28-9aada5f629b7"
      },
      "execution_count": 16,
      "outputs": [
        {
          "output_type": "stream",
          "name": "stdout",
          "text": [
            "At least one of the conditions is True\n"
          ]
        }
      ]
    },
    {
      "cell_type": "markdown",
      "source": [
        "#Nested If\n",
        "You can have if statements inside if statements, this is called nested if statements."
      ],
      "metadata": {
        "id": "KjWa84Liccjx"
      }
    },
    {
      "cell_type": "code",
      "source": [
        "x = 5\n",
        "\n",
        "if x > 10:\n",
        "  print(\"Above ten,\")\n",
        "  if x > 20:\n",
        "    print(\"and also above 20!\")\n",
        "  else:\n",
        "    print(\"but not above 20.\")\n",
        "else:\n",
        "  print(\"<10\")\n"
      ],
      "metadata": {
        "colab": {
          "base_uri": "https://localhost:8080/"
        },
        "id": "FQhrJYPjcexx",
        "outputId": "17993c98-3b4f-4340-bbac-0ccff6e0dfc2"
      },
      "execution_count": 18,
      "outputs": [
        {
          "output_type": "stream",
          "name": "stdout",
          "text": [
            "<10\n"
          ]
        }
      ]
    },
    {
      "cell_type": "markdown",
      "source": [
        "#Python Loops\n",
        "Python has two primitive loop commands:\n",
        "1.   while loops\n",
        "2.  for loops\n"
      ],
      "metadata": {
        "id": "00MARluGdOcT"
      }
    },
    {
      "cell_type": "markdown",
      "source": [
        "#The while Loop\n",
        "With the while loop we can execute a set of statements as long as a condition is true."
      ],
      "metadata": {
        "id": "7OCXDc-ndkFl"
      }
    },
    {
      "cell_type": "markdown",
      "source": [
        "Example\n",
        "Print i as long as i is less than 6:"
      ],
      "metadata": {
        "id": "GocK6Wz2dqjR"
      }
    },
    {
      "cell_type": "code",
      "source": [
        "i = 1\n",
        "while i < 6:\n",
        "  print(i)\n",
        "  i = i + 1"
      ],
      "metadata": {
        "colab": {
          "base_uri": "https://localhost:8080/"
        },
        "id": "R27QREkRdrgA",
        "outputId": "c6ae2d95-8866-4186-8153-2705be0cb325"
      },
      "execution_count": 2,
      "outputs": [
        {
          "output_type": "stream",
          "name": "stdout",
          "text": [
            "1\n",
            "2\n",
            "3\n",
            "4\n",
            "5\n"
          ]
        }
      ]
    },
    {
      "cell_type": "markdown",
      "source": [
        "**Note**: remember to increment i, or else the loop will continue forever.\n"
      ],
      "metadata": {
        "id": "YvJd03bxeBjX"
      }
    },
    {
      "cell_type": "markdown",
      "source": [
        "**The break Statement**\n",
        "With the break statement we can stop the loop even if the while condition is true:\n",
        "Example\n",
        "Exit the loop when i is 3:"
      ],
      "metadata": {
        "id": "8Nd4nTh2eMYt"
      }
    },
    {
      "cell_type": "code",
      "source": [
        "i = 1\n",
        "while i < 6:\n",
        "  print(i)\n",
        "  if i == 3:\n",
        "    break\n",
        "  i = i + 1"
      ],
      "metadata": {
        "colab": {
          "base_uri": "https://localhost:8080/"
        },
        "id": "E-bTKYjqeVaM",
        "outputId": "955f6258-275a-4b08-8875-bc4e44bd31c7"
      },
      "execution_count": 2,
      "outputs": [
        {
          "output_type": "stream",
          "name": "stdout",
          "text": [
            "1\n",
            "2\n",
            "3\n"
          ]
        }
      ]
    },
    {
      "cell_type": "markdown",
      "source": [
        "**The continue Statement**\n",
        "With the continue statement we can stop the current iteration, and continue with the next:\n",
        "\n",
        "Example\n",
        "Continue to the next iteration if i is 3:"
      ],
      "metadata": {
        "id": "kcia8Z5UehzR"
      }
    },
    {
      "cell_type": "code",
      "source": [
        "i = 0\n",
        "while i < 6:\n",
        "  i = i + 1\n",
        "  if i == 3:\n",
        "    continue\n",
        "  print(i)"
      ],
      "metadata": {
        "colab": {
          "base_uri": "https://localhost:8080/"
        },
        "id": "djuqShC4eorB",
        "outputId": "34718463-d2cc-4579-e769-4ccdce0f9e19"
      },
      "execution_count": 7,
      "outputs": [
        {
          "output_type": "stream",
          "name": "stdout",
          "text": [
            "1\n",
            "2\n",
            "4\n",
            "5\n",
            "6\n"
          ]
        }
      ]
    },
    {
      "cell_type": "markdown",
      "source": [
        "#Python For Loops\n",
        "**Python For Loops**\n",
        "A for loop is used for iterating over a sequence (that is either a list, a tuple, a dictionary, a set, or a string).\n",
        "\n",
        "This is less like the for keyword in other programming languages, and works more like an iterator method as found in other object-orientated programming languages.\n",
        "\n",
        "With the for loop we can execute a set of statements, once for each item in a list, tuple, set etc."
      ],
      "metadata": {
        "id": "jmoQNQkafObR"
      }
    },
    {
      "cell_type": "code",
      "source": [
        "#Lists are used to store multiple items in a single variable.\n",
        "#Lists are created using square brackets:\n",
        "# Example\n",
        "# Print each fruit in a fruit list:\n",
        "fruits = [\"apple\", \"banana\", \"cherry\"]\n",
        "for x in fruits:\n",
        "  print(x)"
      ],
      "metadata": {
        "colab": {
          "base_uri": "https://localhost:8080/"
        },
        "id": "fdJg3dYyh08H",
        "outputId": "ae087495-ded6-42dc-9e22-817c22f22e56"
      },
      "execution_count": 3,
      "outputs": [
        {
          "output_type": "stream",
          "name": "stdout",
          "text": [
            "apple\n",
            "banana\n",
            "cherry\n"
          ]
        }
      ]
    },
    {
      "cell_type": "markdown",
      "source": [
        "The for loop does not require an indexing variable to set beforehand.\n",
        "\n",
        "Looping Through a String\n",
        "Even strings are iterable objects, they contain a sequence of characters:"
      ],
      "metadata": {
        "id": "MtLVdD9WFWkL"
      }
    },
    {
      "cell_type": "code",
      "source": [
        "# Example\n",
        "# Loop through the letters in the word \"banana\":\n",
        "\n",
        "for i in \"banana\":\n",
        "  print(i)"
      ],
      "metadata": {
        "colab": {
          "base_uri": "https://localhost:8080/"
        },
        "id": "NY6Zl3I_FcFo",
        "outputId": "4e7b9082-79cd-411f-f87f-1f7abc7f89dd"
      },
      "execution_count": 4,
      "outputs": [
        {
          "output_type": "stream",
          "name": "stdout",
          "text": [
            "b\n",
            "a\n",
            "n\n",
            "a\n",
            "n\n",
            "a\n"
          ]
        }
      ]
    },
    {
      "cell_type": "markdown",
      "source": [
        "The break Statement\n",
        "With the break statement we can stop the loop before it has looped through all the items:\n",
        "\n",
        "Example\n",
        "Exit the loop when x is \"banana\":"
      ],
      "metadata": {
        "id": "Fb3STeK2FxIZ"
      }
    },
    {
      "cell_type": "markdown",
      "source": [
        "<!-- The break Statement\n",
        "With the break statement we can stop the loop before it has looped through all the items:\n",
        "\n",
        "Example\n",
        "Exit the loop when x is \"banana\": **bold text** -->\n",
        "\n"
      ],
      "metadata": {
        "id": "nbCYZXSsFiNy"
      }
    },
    {
      "cell_type": "code",
      "source": [
        "fruits = [\"apple\", \"banana\", \"cherry\"]\n",
        "for x in fruits:\n",
        "  print(x)\n",
        "  if x == \"banana\":\n",
        "    break"
      ],
      "metadata": {
        "colab": {
          "base_uri": "https://localhost:8080/"
        },
        "id": "r4aGKfAJFuyz",
        "outputId": "d84d37ba-b2ea-4262-f230-7342ac0740d8"
      },
      "execution_count": 13,
      "outputs": [
        {
          "output_type": "stream",
          "name": "stdout",
          "text": [
            "apple\n",
            "banana\n"
          ]
        }
      ]
    },
    {
      "cell_type": "code",
      "source": [
        "# Example\n",
        "# Exit the loop when x is \"banana\", but this time the break comes before the print:\n",
        "\n",
        "fruits = [\"apple\", \"banana\", \"cherry\"]\n",
        "for x in fruits:\n",
        "  if x == \"banana\":\n",
        "    break\n",
        "  print(x)"
      ],
      "metadata": {
        "colab": {
          "base_uri": "https://localhost:8080/"
        },
        "id": "q3e1bmCPGJlk",
        "outputId": "55e2c48e-1bba-4e06-eabd-620fe8cfb119"
      },
      "execution_count": 5,
      "outputs": [
        {
          "output_type": "stream",
          "name": "stdout",
          "text": [
            "apple\n"
          ]
        }
      ]
    },
    {
      "cell_type": "markdown",
      "source": [
        "The continue Statement\n",
        "With the continue statement we can stop the current iteration of the loop, and continue with the next:\n",
        "\n",
        "Example\n",
        "Do not print banana:"
      ],
      "metadata": {
        "id": "M6bhhzIgGQDr"
      }
    },
    {
      "cell_type": "code",
      "source": [
        "fruits = [\"apple\", \"banana\", \"cherry\"]\n",
        "for x in fruits:\n",
        "  if x == \"banana\":\n",
        "    continue\n",
        "  print(x)"
      ],
      "metadata": {
        "colab": {
          "base_uri": "https://localhost:8080/"
        },
        "id": "PenherXDGRK2",
        "outputId": "5431ab7b-0ec9-4856-b9e2-74a64095e0f1"
      },
      "execution_count": 6,
      "outputs": [
        {
          "output_type": "stream",
          "name": "stdout",
          "text": [
            "apple\n",
            "cherry\n"
          ]
        }
      ]
    },
    {
      "cell_type": "markdown",
      "source": [
        "The range() Function:-\n",
        "To loop through a set of code a specified number of times, we can use the range() function,\n",
        "The range() function returns a sequence of numbers, starting from 0 by default, and increments by 1 (by default), and ends at a specified number.\n",
        "\n",
        "Example\n",
        "Using the range() function:"
      ],
      "metadata": {
        "id": "cImxUGtmGZL1"
      }
    },
    {
      "cell_type": "code",
      "source": [
        "for x in range(6):\n",
        "  print(x)"
      ],
      "metadata": {
        "colab": {
          "base_uri": "https://localhost:8080/"
        },
        "id": "ppHp2IobGatP",
        "outputId": "9b558f67-83e4-4964-d2e3-acb7756c0b37"
      },
      "execution_count": 7,
      "outputs": [
        {
          "output_type": "stream",
          "name": "stdout",
          "text": [
            "0\n",
            "1\n",
            "2\n",
            "3\n",
            "4\n",
            "5\n"
          ]
        }
      ]
    },
    {
      "cell_type": "markdown",
      "source": [
        "The range() function defaults to 0 as a starting value, however it is possible to specify the starting value by adding a parameter: range(2, 6), which means values from 2 to 6 (but not including 6):\n",
        "\n",
        "Example\n",
        "Using the start parameter:"
      ],
      "metadata": {
        "id": "v6Q5UhZFGij1"
      }
    },
    {
      "cell_type": "code",
      "source": [
        "for x in range(2, 6):\n",
        "  print(x)\n"
      ],
      "metadata": {
        "colab": {
          "base_uri": "https://localhost:8080/"
        },
        "id": "uncREBxkGmIJ",
        "outputId": "657526c9-6507-458d-be5e-4a40908dcf96"
      },
      "execution_count": 8,
      "outputs": [
        {
          "output_type": "stream",
          "name": "stdout",
          "text": [
            "2\n",
            "3\n",
            "4\n",
            "5\n"
          ]
        }
      ]
    },
    {
      "cell_type": "markdown",
      "source": [
        "Else in For Loop\n",
        "The else keyword in a for loop specifies a block of code to be executed when the loop is finished:\n",
        "\n",
        "Example\n",
        "Print all numbers from 0 to 5, and print a message when the loop has ended:\n",
        "\n"
      ],
      "metadata": {
        "id": "N9xAqyIpGzMw"
      }
    },
    {
      "cell_type": "code",
      "source": [
        "for x in range(6):\n",
        "  print(x)\n",
        "else:\n",
        "  print(\"Finally finished!\")"
      ],
      "metadata": {
        "colab": {
          "base_uri": "https://localhost:8080/"
        },
        "id": "3DzjyAGeG2Aa",
        "outputId": "23e6c2da-899f-4674-bc20-7b7d3e5f73de"
      },
      "execution_count": 9,
      "outputs": [
        {
          "output_type": "stream",
          "name": "stdout",
          "text": [
            "0\n",
            "1\n",
            "2\n",
            "3\n",
            "4\n",
            "5\n",
            "Finally finished!\n"
          ]
        }
      ]
    },
    {
      "cell_type": "markdown",
      "source": [
        "Nested Loops\n",
        "A nested loop is a loop inside a loop.\n",
        "\n",
        "The \"inner loop\" will be executed one time for each iteration of the \"outer loop\":\n",
        "\n",
        "Example\n",
        "Print each adjective for every fruit:"
      ],
      "metadata": {
        "id": "tWrQVwqHHCvc"
      }
    },
    {
      "cell_type": "code",
      "source": [
        "adj = [\"red\", \"big\", \"tasty\"]\n",
        "fruits = [\"apple\", \"banana\", \"cherry\"]\n",
        "\n",
        "for x in adj:\n",
        "  for y in fruits:\n",
        "    print(x, y)"
      ],
      "metadata": {
        "colab": {
          "base_uri": "https://localhost:8080/"
        },
        "id": "FjYvJoROHDhR",
        "outputId": "fab6ce65-605d-4af2-b947-8343b0bb3452"
      },
      "execution_count": 10,
      "outputs": [
        {
          "output_type": "stream",
          "name": "stdout",
          "text": [
            "red apple\n",
            "red banana\n",
            "red cherry\n",
            "big apple\n",
            "big banana\n",
            "big cherry\n",
            "tasty apple\n",
            "tasty banana\n",
            "tasty cherry\n"
          ]
        }
      ]
    }
  ]
}