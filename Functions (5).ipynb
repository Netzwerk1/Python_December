{
  "nbformat": 4,
  "nbformat_minor": 0,
  "metadata": {
    "colab": {
      "name": "Functions.ipynb",
      "provenance": [],
      "collapsed_sections": []
    },
    "kernelspec": {
      "name": "python3",
      "display_name": "Python 3"
    },
    "language_info": {
      "name": "python"
    }
  },
  "cells": [
    {
      "cell_type": "markdown",
      "source": [
        "#Python Functions\n"
      ],
      "metadata": {
        "id": "Ehm3YvE-avxj"
      }
    },
    {
      "cell_type": "markdown",
      "source": [
        "A function is a block of code which only runs when it is called.\n",
        "\n",
        "You can pass data, known as parameters, into a function.\n",
        "\n",
        "A function can return data as a result.\n",
        "\n"
      ],
      "metadata": {
        "id": "A-tGwRQ7a4Np"
      }
    },
    {
      "cell_type": "code",
      "source": [
        "# Creating a Function\n",
        "# In Python a function is defined using the def keyword:\n",
        "#Example\n",
        "def my_function():\n",
        " print(\"Hello from a function\")"
      ],
      "metadata": {
        "id": "G0wGxHA-bCsY"
      },
      "execution_count": null,
      "outputs": []
    },
    {
      "cell_type": "markdown",
      "source": [
        "#Calling a Function\n",
        "To call a function, use the function name followed by parenthesis:"
      ],
      "metadata": {
        "id": "etkS6RuGbOzQ"
      }
    },
    {
      "cell_type": "code",
      "source": [
        "#Example\n",
        "def my_function():\n",
        "  print(\"Hello from a function\")\n",
        "\n",
        "my_function()"
      ],
      "metadata": {
        "id": "wDR_b_JfbQfq"
      },
      "execution_count": null,
      "outputs": []
    },
    {
      "cell_type": "markdown",
      "source": [
        "#Arguments\n",
        "Information can be passed into functions as arguments.\n",
        "\n",
        "Arguments are specified after the function name, inside the parentheses. You can add as many arguments as you want, just separate them with a comma.\n",
        "\n",
        "The following example has a function with one argument (fname). When the function is called, we pass along a first name, which is used inside the function to print the full name:"
      ],
      "metadata": {
        "id": "oI6nEIGkbYYL"
      }
    },
    {
      "cell_type": "code",
      "source": [
        "#Example\n",
        "def my_function(fname):\n",
        "  print(fname + \" is my name\")\n",
        "\n",
        "my_function(\"Riya\")\n",
        "my_function(\"Priya\")\n",
        "my_function(\"Supriya\")"
      ],
      "metadata": {
        "id": "oLjnOi7Fba7o",
        "colab": {
          "base_uri": "https://localhost:8080/"
        },
        "outputId": "be048f5a-10dc-411a-c692-00ab23c9e248"
      },
      "execution_count": null,
      "outputs": [
        {
          "output_type": "stream",
          "name": "stdout",
          "text": [
            "Riya Refsnes\n",
            "Priya Refsnes\n",
            "Supriya Refsnes\n"
          ]
        }
      ]
    },
    {
      "cell_type": "markdown",
      "source": [
        "Arguments are often shortened to args in Python documentations.\n",
        "\n",
        "#Parameters or Arguments?\n",
        "The terms parameter and argument can be used for the same thing: information that are passed into a function.\n",
        "\n",
        "From a function's perspective:\n",
        "\n",
        "A parameter is the variable listed inside the parentheses in the function definition.\n",
        "\n",
        "An argument is the value that is sent to the function when it is called.\n",
        "\n",
        "#Number of Arguments\n",
        "By default, a function must be called with the correct number of arguments. Meaning that if your function expects 2 arguments, you have to call the function with 2 arguments, not more, and not less."
      ],
      "metadata": {
        "id": "lAxtfKO7bl15"
      }
    },
    {
      "cell_type": "code",
      "source": [
        "# Example\n",
        "# This function expects 2 arguments, and gets 2 arguments:\n",
        "\n",
        "def my_function(fname, lname):\n",
        "  print(fname + \" \" + lname)\n",
        "\n",
        "my_function(\"Riya\", \"Mehra\")"
      ],
      "metadata": {
        "id": "SuOrB4dabx1l"
      },
      "execution_count": null,
      "outputs": []
    },
    {
      "cell_type": "code",
      "source": [
        "# If you try to call the function with 1 or 3 arguments, you will get an error:\n",
        "# Example\n",
        "# This function expects 2 arguments, but gets only 1:\n",
        "\n",
        "def my_function(fname, lname):\n",
        "  print(fname + \" \" + lname)\n",
        "\n",
        "my_function(\"Riya\")"
      ],
      "metadata": {
        "id": "iYTxfLHbb6Kd"
      },
      "execution_count": null,
      "outputs": []
    },
    {
      "cell_type": "markdown",
      "source": [
        "#Arbitrary Arguments, *args\n",
        "If you do not know how many arguments that will be passed into your function, add a * before the parameter name in the function definition.\n",
        "\n",
        "This way the function will receive a tuple of arguments, and can access the items accordingly:"
      ],
      "metadata": {
        "id": "L3ZHW3rTcACY"
      }
    },
    {
      "cell_type": "code",
      "source": [
        "# Example\n",
        "# If the number of arguments is unknown, add a * before the parameter name:\n",
        "\n",
        "def my_function(*kids):\n",
        "  print(\"The youngest child is \" + kids[2])\n",
        "\n",
        "my_function(\"Emil\", \"Tobias\", \"Linus\")"
      ],
      "metadata": {
        "id": "CvCQKPpzcCGt"
      },
      "execution_count": null,
      "outputs": []
    },
    {
      "cell_type": "markdown",
      "source": [
        "**Keyword Arguments**\n",
        "You can also send arguments with the key = value syntax.\n",
        "This way the order of the arguments does not matter."
      ],
      "metadata": {
        "id": "7PHuvuhycNxU"
      }
    },
    {
      "cell_type": "code",
      "source": [
        "#Example\n",
        "def my_function(child3, child2, child1):\n",
        "  print(\"The youngest child is \" + child3)\n",
        "\n",
        "my_function(child1 = \"Emil\", child2 = \"Tobias\", child3 = \"Linus\")"
      ],
      "metadata": {
        "id": "GofPwEYHcQse",
        "colab": {
          "base_uri": "https://localhost:8080/"
        },
        "outputId": "a559b108-bc9d-426c-b972-7bf929c01ff9"
      },
      "execution_count": 7,
      "outputs": [
        {
          "output_type": "stream",
          "name": "stdout",
          "text": [
            "The youngest child is Linus\n"
          ]
        }
      ]
    },
    {
      "cell_type": "markdown",
      "source": [
        "#Default Parameter Value\n",
        "The following example shows how to use a default parameter value.\n",
        "\n",
        "If we call the function without argument, it uses the default value:"
      ],
      "metadata": {
        "id": "olcJDC8iceOR"
      }
    },
    {
      "cell_type": "code",
      "source": [
        "#Example\n",
        "def my_function(country = \"Norway\"):\n",
        "  print(\"I am from \" + country)\n",
        "\n",
        "my_function(\"Sweden\")\n",
        "my_function(\"India\")\n",
        "my_function()\n",
        "my_function(\"Brazil\")"
      ],
      "metadata": {
        "id": "KDJTB665cgJ4"
      },
      "execution_count": null,
      "outputs": []
    },
    {
      "cell_type": "markdown",
      "source": [
        "**Passing a List as an Argument**\n",
        "You can send any data types of argument to a function (string, number, list, dictionary etc.), and it will be treated as the same data type inside the function.\n",
        "\n",
        "E.g. if you send a List as an argument, it will still be a List when it reaches the function:"
      ],
      "metadata": {
        "id": "KGY3uXAZcody"
      }
    },
    {
      "cell_type": "code",
      "source": [
        "#Example\n",
        "def my_function(fruits):\n",
        "  for x in fruits:\n",
        "    print(x)\n",
        "\n",
        "fruits = [\"apple\", \"banana\", \"cherry\"]\n",
        "\n",
        "my_function(fruits)"
      ],
      "metadata": {
        "id": "e5B2ScVacrUw",
        "colab": {
          "base_uri": "https://localhost:8080/"
        },
        "outputId": "dac72850-aecc-4329-b665-77eaa1c5b4f9"
      },
      "execution_count": 6,
      "outputs": [
        {
          "output_type": "stream",
          "name": "stdout",
          "text": [
            "apple\n",
            "banana\n",
            "cherry\n"
          ]
        }
      ]
    },
    {
      "cell_type": "markdown",
      "source": [
        "#Return Values\n",
        "To let a function return a value, use the return statement:"
      ],
      "metadata": {
        "id": "ON8JrNe9cyyt"
      }
    },
    {
      "cell_type": "code",
      "source": [
        "#Example\n",
        "def my_function(x):\n",
        "  return 5 * x\n",
        "\n",
        "print(my_function(3))\n",
        "print(my_function(5))\n",
        "print(my_function(9))"
      ],
      "metadata": {
        "id": "Dj1R22tfc0RQ"
      },
      "execution_count": null,
      "outputs": []
    },
    {
      "cell_type": "markdown",
      "source": [
        "#Recursion\n",
        "Python also accepts function recursion, which means a defined function can call itself.\n",
        "\n"
      ],
      "metadata": {
        "id": "nENpQdC1dJwV"
      }
    },
    {
      "cell_type": "code",
      "source": [
        "# Example\n",
        "# Recursion Example\n",
        "\n",
        "def tri_recursion(k):\n",
        "  if(k > 0):\n",
        "    result = k + tri_recursion(k - 1)\n",
        "  else:\n",
        "    result = 0\n",
        "  return result\n",
        "\n",
        "print(tri_recursion(6))"
      ],
      "metadata": {
        "id": "Wle9Tp-ZdMEw",
        "colab": {
          "base_uri": "https://localhost:8080/"
        },
        "outputId": "95310c32-2987-47b7-e3c8-edfed7e658f7"
      },
      "execution_count": 5,
      "outputs": [
        {
          "output_type": "stream",
          "name": "stdout",
          "text": [
            "21\n"
          ]
        }
      ]
    }
  ]
}